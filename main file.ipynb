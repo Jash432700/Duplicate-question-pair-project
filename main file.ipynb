{
 "cells": [
  {
   "cell_type": "code",
   "execution_count": 1,
   "id": "6c131e6d",
   "metadata": {},
   "outputs": [],
   "source": [
    "import pandas as pd \n",
    "import numpy as np \n",
    "import seaborn as sns\n",
    "import matplotlib.pyplot as plt \n",
    "%matplotlib inline\n",
    "import re \n",
    "import swifter\n",
    "import dask.dataframe as dd\n",
    "from bs4 import BeautifulSoup\n",
    "from dask import delayed"
   ]
  },
  {
   "cell_type": "code",
   "execution_count": 2,
   "id": "77633b29",
   "metadata": {},
   "outputs": [],
   "source": [
    "df=dd.read_csv(r\"C:\\Users\\Neon4\\Machine learning code\\Data set\\Question.csv\")"
   ]
  },
  {
   "cell_type": "code",
   "execution_count": 3,
   "id": "9b33c8c1",
   "metadata": {
    "scrolled": true
   },
   "outputs": [
    {
     "data": {
      "text/html": [
       "<div>\n",
       "<style scoped>\n",
       "    .dataframe tbody tr th:only-of-type {\n",
       "        vertical-align: middle;\n",
       "    }\n",
       "\n",
       "    .dataframe tbody tr th {\n",
       "        vertical-align: top;\n",
       "    }\n",
       "\n",
       "    .dataframe thead th {\n",
       "        text-align: right;\n",
       "    }\n",
       "</style>\n",
       "<table border=\"1\" class=\"dataframe\">\n",
       "  <thead>\n",
       "    <tr style=\"text-align: right;\">\n",
       "      <th></th>\n",
       "      <th>id</th>\n",
       "      <th>qid1</th>\n",
       "      <th>qid2</th>\n",
       "      <th>question1</th>\n",
       "      <th>question2</th>\n",
       "      <th>is_duplicate</th>\n",
       "    </tr>\n",
       "  </thead>\n",
       "  <tbody>\n",
       "    <tr>\n",
       "      <th>0</th>\n",
       "      <td>0</td>\n",
       "      <td>1</td>\n",
       "      <td>2</td>\n",
       "      <td>What is the step by step guide to invest in sh...</td>\n",
       "      <td>What is the step by step guide to invest in sh...</td>\n",
       "      <td>0</td>\n",
       "    </tr>\n",
       "    <tr>\n",
       "      <th>1</th>\n",
       "      <td>1</td>\n",
       "      <td>3</td>\n",
       "      <td>4</td>\n",
       "      <td>What is the story of Kohinoor (Koh-i-Noor) Dia...</td>\n",
       "      <td>What would happen if the Indian government sto...</td>\n",
       "      <td>0</td>\n",
       "    </tr>\n",
       "    <tr>\n",
       "      <th>2</th>\n",
       "      <td>2</td>\n",
       "      <td>5</td>\n",
       "      <td>6</td>\n",
       "      <td>How can I increase the speed of my internet co...</td>\n",
       "      <td>How can Internet speed be increased by hacking...</td>\n",
       "      <td>0</td>\n",
       "    </tr>\n",
       "    <tr>\n",
       "      <th>3</th>\n",
       "      <td>3</td>\n",
       "      <td>7</td>\n",
       "      <td>8</td>\n",
       "      <td>Why am I mentally very lonely? How can I solve...</td>\n",
       "      <td>Find the remainder when [math]23^{24}[/math] i...</td>\n",
       "      <td>0</td>\n",
       "    </tr>\n",
       "    <tr>\n",
       "      <th>4</th>\n",
       "      <td>4</td>\n",
       "      <td>9</td>\n",
       "      <td>10</td>\n",
       "      <td>Which one dissolve in water quikly sugar, salt...</td>\n",
       "      <td>Which fish would survive in salt water?</td>\n",
       "      <td>0</td>\n",
       "    </tr>\n",
       "  </tbody>\n",
       "</table>\n",
       "</div>"
      ],
      "text/plain": [
       "   id  qid1  qid2                                          question1  \\\n",
       "0   0     1     2  What is the step by step guide to invest in sh...   \n",
       "1   1     3     4  What is the story of Kohinoor (Koh-i-Noor) Dia...   \n",
       "2   2     5     6  How can I increase the speed of my internet co...   \n",
       "3   3     7     8  Why am I mentally very lonely? How can I solve...   \n",
       "4   4     9    10  Which one dissolve in water quikly sugar, salt...   \n",
       "\n",
       "                                           question2  is_duplicate  \n",
       "0  What is the step by step guide to invest in sh...             0  \n",
       "1  What would happen if the Indian government sto...             0  \n",
       "2  How can Internet speed be increased by hacking...             0  \n",
       "3  Find the remainder when [math]23^{24}[/math] i...             0  \n",
       "4            Which fish would survive in salt water?             0  "
      ]
     },
     "execution_count": 3,
     "metadata": {},
     "output_type": "execute_result"
    }
   ],
   "source": [
    "df.head()"
   ]
  },
  {
   "cell_type": "code",
   "execution_count": 4,
   "id": "bab58760",
   "metadata": {
    "scrolled": true
   },
   "outputs": [],
   "source": [
    "df_shape_delayed = delayed(df.shape)"
   ]
  },
  {
   "cell_type": "code",
   "execution_count": 5,
   "id": "cc1b6e1a",
   "metadata": {},
   "outputs": [
    {
     "data": {
      "text/plain": [
       "(404290, 6)"
      ]
     },
     "execution_count": 5,
     "metadata": {},
     "output_type": "execute_result"
    }
   ],
   "source": [
    "df_shape_delayed.compute()"
   ]
  },
  {
   "cell_type": "code",
   "execution_count": 6,
   "id": "b3049aad",
   "metadata": {},
   "outputs": [
    {
     "name": "stdout",
     "output_type": "stream",
     "text": [
      "<class 'dask.dataframe.core.DataFrame'>\n",
      "Columns: 6 entries, id to is_duplicate\n",
      "dtypes: object(2), int64(4)"
     ]
    }
   ],
   "source": [
    "df.info()"
   ]
  },
  {
   "cell_type": "code",
   "execution_count": 7,
   "id": "00f707eb",
   "metadata": {},
   "outputs": [
    {
     "data": {
      "text/plain": [
       "id              0\n",
       "qid1            0\n",
       "qid2            0\n",
       "question1       1\n",
       "question2       2\n",
       "is_duplicate    0\n",
       "dtype: int64"
      ]
     },
     "execution_count": 7,
     "metadata": {},
     "output_type": "execute_result"
    }
   ],
   "source": [
    "df.isnull().sum().compute()"
   ]
  },
  {
   "cell_type": "code",
   "execution_count": 8,
   "id": "559ca041",
   "metadata": {},
   "outputs": [],
   "source": [
    "df=df.dropna().compute()"
   ]
  },
  {
   "cell_type": "code",
   "execution_count": 9,
   "id": "9e6408a7",
   "metadata": {},
   "outputs": [
    {
     "data": {
      "text/plain": [
       "is_duplicate\n",
       "0    255024\n",
       "1    149263\n",
       "Name: count, dtype: int64"
      ]
     },
     "execution_count": 9,
     "metadata": {},
     "output_type": "execute_result"
    }
   ],
   "source": [
    "df['is_duplicate'].value_counts()"
   ]
  },
  {
   "cell_type": "code",
   "execution_count": 10,
   "id": "088daf58",
   "metadata": {},
   "outputs": [
    {
     "name": "stdout",
     "output_type": "stream",
     "text": [
      "no. of unique questions 537929\n"
     ]
    }
   ],
   "source": [
    "qid=pd.Series(df['qid1'].tolist()+df['qid2'].tolist())\n",
    "print(\"no. of unique questions\",np.unique(qid).shape[0])"
   ]
  },
  {
   "cell_type": "code",
   "execution_count": 11,
   "id": "f102d7fa",
   "metadata": {},
   "outputs": [
    {
     "name": "stdout",
     "output_type": "stream",
     "text": [
      "no. of question get repeated  111778\n"
     ]
    }
   ],
   "source": [
    "x=qid.value_counts()>1\n",
    "print('no. of question get repeated ',x[x].shape[0])"
   ]
  },
  {
   "cell_type": "code",
   "execution_count": 12,
   "id": "e9ed3d04",
   "metadata": {},
   "outputs": [
    {
     "data": {
      "text/plain": [
       "Text(0.5, 0, 'question repeated ')"
      ]
     },
     "execution_count": 12,
     "metadata": {},
     "output_type": "execute_result"
    },
    {
     "data": {
      "image/png": "[encoded data removed]",
      "text/plain": [
       "<Figure size 1600x900 with 1 Axes>"
      ]
     },
     "metadata": {},
     "output_type": "display_data"
    }
   ],
   "source": [
    "plt.figure(figsize=(16,9))\n",
    "plt.hist(qid.value_counts().values,bins=200)\n",
    "plt.yscale('log')\n",
    "plt.ylabel('count of question')\n",
    "plt.xlabel('question repeated ')"
   ]
  },
  {
   "cell_type": "markdown",
   "id": "034eaf4f",
   "metadata": {},
   "source": [
    "# Data Preprrocessing"
   ]
  },
  {
   "cell_type": "code",
   "execution_count": 13,
   "id": "21401db3",
   "metadata": {},
   "outputs": [],
   "source": [
    "def preprocess(q):\n",
    "    \n",
    "    q = str(q).lower().strip()\n",
    "    \n",
    "    # Replace certain special characters with their string equivalents\n",
    "    q = q.replace('%', ' percent')\n",
    "    q = q.replace('$', ' dollar ')\n",
    "    q = q.replace('₹', ' rupee ')\n",
    "    q = q.replace('€', ' euro ')\n",
    "    q = q.replace('@', ' at ')\n",
    "    q = q.replace('[math]', '')\n",
    "    # Replacing some numbers with string equivalents (not perfect, can be done better to account for more cases)\n",
    "    q = q.replace(',000,000,000 ', 'b ')\n",
    "    q = q.replace(',000,000 ', 'm ')\n",
    "    q = q.replace(',000 ', 'k ')\n",
    "    q = re.sub(r'([0-9]+)000000000', r'\\1b', q)\n",
    "    q = re.sub(r'([0-9]+)000000', r'\\1m', q)\n",
    "    q = re.sub(r'([0-9]+)000', r'\\1k', q)\n",
    "    \n",
    "    \n",
    "     # Removing HTML tags\n",
    "    q = BeautifulSoup(q)\n",
    "    q = q.get_text()\n",
    "    \n",
    "    # Remove punctuations\n",
    "    pattern = re.compile('\\W')\n",
    "    q = re.sub(pattern, ' ', q).strip()\n",
    "\n",
    "    \n",
    "    return q"
   ]
  },
  {
   "cell_type": "code",
   "execution_count": 14,
   "id": "33484151",
   "metadata": {
    "scrolled": true
   },
   "outputs": [
    {
     "data": {
      "application/vnd.jupyter.widget-view+json": {
       "model_id": "f0bc55a0174a4a6e87af45106e686381",
       "version_major": 2,
       "version_minor": 0
      },
      "text/plain": [
       "Pandas Apply:   0%|          | 0/404287 [00:00<?, ?it/s]"
      ]
     },
     "metadata": {},
     "output_type": "display_data"
    },
    {
     "name": "stderr",
     "output_type": "stream",
     "text": [
      "C:\\Users\\Neon4\\AppData\\Local\\Temp\\ipykernel_10840\\2413357511.py:22: MarkupResemblesLocatorWarning: The input looks more like a filename than markup. You may want to open this file and pass the filehandle into Beautiful Soup.\n",
      "  q = BeautifulSoup(q)\n"
     ]
    },
    {
     "data": {
      "application/vnd.jupyter.widget-view+json": {
       "model_id": "b18ea3a36bfd44bf939cce9f59aa5e1f",
       "version_major": 2,
       "version_minor": 0
      },
      "text/plain": [
       "Pandas Apply:   0%|          | 0/404287 [00:00<?, ?it/s]"
      ]
     },
     "metadata": {},
     "output_type": "display_data"
    },
    {
     "name": "stderr",
     "output_type": "stream",
     "text": [
      "C:\\Users\\Neon4\\AppData\\Local\\Temp\\ipykernel_10840\\2413357511.py:22: MarkupResemblesLocatorWarning: The input looks more like a filename than markup. You may want to open this file and pass the filehandle into Beautiful Soup.\n",
      "  q = BeautifulSoup(q)\n"
     ]
    }
   ],
   "source": [
    "df['question1'] = df['question1'].swifter.apply(preprocess)\n",
    "df['question2'] = df['question2'].swifter.apply(preprocess)"
   ]
  },
  {
   "cell_type": "markdown",
   "id": "11fc0d72",
   "metadata": {},
   "source": [
    "# Stememing and Lemitaization"
   ]
  },
  {
   "cell_type": "code",
   "execution_count": 15,
   "id": "fab866ef",
   "metadata": {},
   "outputs": [],
   "source": [
    "from nltk.stem import WordNetLemmatizer\n",
    "from nltk.stem import PorterStemmer\n",
    "import nltk\n",
    "from nltk.tokenize import word_tokenize\n",
    "import swifter\n"
   ]
  },
  {
   "cell_type": "code",
   "execution_count": 16,
   "id": "ba1e9d9d",
   "metadata": {},
   "outputs": [],
   "source": [
    "stemmer = PorterStemmer()\n",
    "def stem_text(text):\n",
    "    words = nltk.word_tokenize(text)\n",
    "    stemmed_words = [stemmer.stem(word) for word in words]\n",
    "    stemmed_text = ' '.join(stemmed_words)\n",
    "    \n",
    "    return stemmed_text"
   ]
  },
  {
   "cell_type": "code",
   "execution_count": 18,
   "id": "8ae457dd",
   "metadata": {},
   "outputs": [
    {
     "data": {
      "application/vnd.jupyter.widget-view+json": {
       "model_id": "0e224e935a7c4c13b972071c92b1dc75",
       "version_major": 2,
       "version_minor": 0
      },
      "text/plain": [
       "Pandas Apply:   0%|          | 0/404287 [00:00<?, ?it/s]"
      ]
     },
     "metadata": {},
     "output_type": "display_data"
    },
    {
     "data": {
      "application/vnd.jupyter.widget-view+json": {
       "model_id": "c00019167fbf4a41bd5dcb2a48568a49",
       "version_major": 2,
       "version_minor": 0
      },
      "text/plain": [
       "Pandas Apply:   0%|          | 0/404287 [00:00<?, ?it/s]"
      ]
     },
     "metadata": {},
     "output_type": "display_data"
    }
   ],
   "source": [
    "df['question1'] = df['question1'].swifter.apply(stem_text)\n",
    "df['question2'] = df['question2'].swifter.apply(stem_text)"
   ]
  },
  {
   "cell_type": "code",
   "execution_count": 19,
   "id": "9cec9801",
   "metadata": {},
   "outputs": [],
   "source": [
    "def apply_lemmatization(text):\n",
    "    # Tokenize the text into words\n",
    "    words = word_tokenize(text)\n",
    "    \n",
    "    # Initialize the WordNet Lemmatizer\n",
    "    lemmatizer = WordNetLemmatizer()\n",
    "    \n",
    "    # Apply lemmatization to each word\n",
    "    lemmatized_words = [lemmatizer.lemmatize(word) for word in words]\n",
    "    \n",
    "    # Join the lemmatized words back into a sentence\n",
    "    lemmatized_text = ' '.join(lemmatized_words)\n",
    "    \n",
    "    return lemmatized_text"
   ]
  },
  {
   "cell_type": "code",
   "execution_count": 21,
   "id": "c891ab83",
   "metadata": {},
   "outputs": [
    {
     "data": {
      "application/vnd.jupyter.widget-view+json": {
       "model_id": "b4e6ffd4785146b7a69d2a017de1bb8f",
       "version_major": 2,
       "version_minor": 0
      },
      "text/plain": [
       "Pandas Apply:   0%|          | 0/404287 [00:00<?, ?it/s]"
      ]
     },
     "metadata": {},
     "output_type": "display_data"
    },
    {
     "data": {
      "application/vnd.jupyter.widget-view+json": {
       "model_id": "c7502e29c72e4eb1b98b4b5d154297ea",
       "version_major": 2,
       "version_minor": 0
      },
      "text/plain": [
       "Pandas Apply:   0%|          | 0/404287 [00:00<?, ?it/s]"
      ]
     },
     "metadata": {},
     "output_type": "display_data"
    }
   ],
   "source": [
    "df['question1'] = df['question1'].swifter.apply(apply_lemmatization)\n",
    "df['question2'] = df['question2'].swifter.apply(apply_lemmatization)"
   ]
  },
  {
   "cell_type": "code",
   "execution_count": 22,
   "id": "1e5758e6",
   "metadata": {},
   "outputs": [],
   "source": [
    "df.drop(['qid1','qid2','id'],axis=1,inplace=True)"
   ]
  },
  {
   "cell_type": "markdown",
   "id": "2a83e6f8",
   "metadata": {},
   "source": [
    "# Feature creation\n"
   ]
  },
  {
   "cell_type": "markdown",
   "id": "d4b74c65",
   "metadata": {},
   "source": [
    "\n",
    "1 : q1_len = Char length of q1\n",
    "\n",
    "2 : q2_len = Char length of q2\n",
    "\n",
    "3 : q1_words = No.of words in q1\n",
    "\n",
    "4 : q2_words = No.of words in q2\n",
    "\n",
    "5 : word_common = No. of Common words in q1 and q2\n",
    "\n",
    "6 : word_total = No. of total worlds in q1 and q2\n",
    "\n",
    "7 : word_share = word_common / word_total"
   ]
  },
  {
   "cell_type": "code",
   "execution_count": 25,
   "id": "2da5d7b3",
   "metadata": {},
   "outputs": [],
   "source": [
    "# q1_len = Char length of q1\n",
    "# q2_len = Char length of q2\n",
    "\n",
    "df['q1_len'] = df['question1'].str.len() \n",
    "df['q2_len'] = df['question2'].str.len()"
   ]
  },
  {
   "cell_type": "code",
   "execution_count": 26,
   "id": "6814df0b",
   "metadata": {},
   "outputs": [],
   "source": [
    "# q1_words = No.of words in q1\n",
    "# q2_words = No.of words in q2\n",
    "df['q1_num_words'] = df['question1'].apply(lambda row: len(str(row).split(\" \")) )\n",
    "df['q2_num_words'] = df['question2'].apply(lambda row: len(str(row).split(\" \")) )"
   ]
  },
  {
   "cell_type": "code",
   "execution_count": 27,
   "id": "a07d7c1f",
   "metadata": {},
   "outputs": [],
   "source": [
    "def total_words(row):\n",
    "    if pd.notna(row['question1']) and pd.notna(row['question2']):\n",
    "        w1 = set(map(lambda word: word.lower().strip(), row['question1'].split(\" \")))\n",
    "        w2 = set(map(lambda word: word.lower().strip(), row['question2'].split(\" \")))    \n",
    "        return (len(w1) + len(w2))"
   ]
  },
  {
   "cell_type": "code",
   "execution_count": 28,
   "id": "383ab569",
   "metadata": {},
   "outputs": [],
   "source": [
    "# word_common = No. of Common words in q1 and q2\n",
    "def common_words(row):\n",
    "    w1 = set(map(lambda word: word.lower().strip(), row['question1'].split(\" \")))\n",
    "    w2 = set(map(lambda word: word.lower().strip(), row['question2'].split(\" \")))    \n",
    "    return len(w1 & w2)"
   ]
  },
  {
   "cell_type": "code",
   "execution_count": 29,
   "id": "e52a4850",
   "metadata": {},
   "outputs": [],
   "source": [
    "df['word_total'] = df.apply(total_words, axis=1)"
   ]
  },
  {
   "cell_type": "code",
   "execution_count": 30,
   "id": "0831fc5f",
   "metadata": {},
   "outputs": [],
   "source": [
    "df['word_common'] = df[['question1','question2']].apply(common_words, axis=1)\n"
   ]
  },
  {
   "cell_type": "code",
   "execution_count": 31,
   "id": "f5d10264",
   "metadata": {},
   "outputs": [],
   "source": [
    "df['word_share'] = round(df['word_common']/df['word_total'],2)\n"
   ]
  },
  {
   "cell_type": "markdown",
   "id": "99cbedd8",
   "metadata": {},
   "source": [
    "# trming data"
   ]
  },
  {
   "cell_type": "code",
   "execution_count": 33,
   "id": "bc733fa4",
   "metadata": {},
   "outputs": [],
   "source": [
    "df_non=df[df['is_duplicate']==0]\n",
    "df_dup=df[df['is_duplicate']==1]"
   ]
  },
  {
   "cell_type": "code",
   "execution_count": 34,
   "id": "87522302",
   "metadata": {},
   "outputs": [
    {
     "data": {
      "text/plain": [
       "(array([14261.,     0.,   233.,  2699.,  3725.,  3923.,  4460.,  3974.,\n",
       "         4090.,  3759.,  4812.,  6024.,  8638.,  5059.,  8213.,  7408.,\n",
       "         6304.,  9675.,  8460.,  8882.,  8350.,  8604.,  6840.,  5841.,\n",
       "         6219.,  8265.,  4240.,  6222.,  3180.,  7455.,  4285.,  5059.,\n",
       "         3343.,  9476.,  4318.,     0.,  4957.,  1677.,  6810.,  2358.,\n",
       "         6964.,     0.,  3627.,  4719.,  5697.,  3042.,  7269.,     0.,\n",
       "          977.,   631.]),\n",
       " array([0.  , 0.01, 0.02, 0.03, 0.04, 0.05, 0.06, 0.07, 0.08, 0.09, 0.1 ,\n",
       "        0.11, 0.12, 0.13, 0.14, 0.15, 0.16, 0.17, 0.18, 0.19, 0.2 , 0.21,\n",
       "        0.22, 0.23, 0.24, 0.25, 0.26, 0.27, 0.28, 0.29, 0.3 , 0.31, 0.32,\n",
       "        0.33, 0.34, 0.35, 0.36, 0.37, 0.38, 0.39, 0.4 , 0.41, 0.42, 0.43,\n",
       "        0.44, 0.45, 0.46, 0.47, 0.48, 0.49, 0.5 ]),\n",
       " <BarContainer object of 50 artists>)"
      ]
     },
     "execution_count": 34,
     "metadata": {},
     "output_type": "execute_result"
    },
    {
     "data": {
      "image/png": "[encoded data removed]",
      "text/plain": [
       "<Figure size 640x480 with 1 Axes>"
      ]
     },
     "metadata": {},
     "output_type": "display_data"
    }
   ],
   "source": [
    "plt.hist(df_non['word_share'],bins=50)\n"
   ]
  },
  {
   "cell_type": "code",
   "execution_count": 35,
   "id": "054e14e0",
   "metadata": {},
   "outputs": [
    {
     "data": {
      "text/plain": [
       "22335"
      ]
     },
     "execution_count": 35,
     "metadata": {},
     "output_type": "execute_result"
    }
   ],
   "source": [
    "(df_non['word_share']>0.42).sum()"
   ]
  },
  {
   "cell_type": "code",
   "execution_count": 36,
   "id": "07e0768e",
   "metadata": {},
   "outputs": [],
   "source": [
    "df_0 = df[(df[\"is_duplicate\"] == 0) & (df['word_share'] <0.42)]\n"
   ]
  },
  {
   "cell_type": "code",
   "execution_count": 37,
   "id": "b42104bb",
   "metadata": {},
   "outputs": [
    {
     "data": {
      "text/plain": [
       "26654"
      ]
     },
     "execution_count": 37,
     "metadata": {},
     "output_type": "execute_result"
    }
   ],
   "source": [
    "(df_dup['word_share']<0.23).sum()"
   ]
  },
  {
   "cell_type": "code",
   "execution_count": 38,
   "id": "6ab2b807",
   "metadata": {},
   "outputs": [
    {
     "name": "stderr",
     "output_type": "stream",
     "text": [
      "C:\\Users\\Neon4\\AppData\\Local\\Temp\\ipykernel_10840\\813863152.py:1: UserWarning: Boolean Series key will be reindexed to match DataFrame index.\n",
      "  df_1=df_dup[df['word_share']>0.23]\n"
     ]
    }
   ],
   "source": [
    "df_1=df_dup[df['word_share']>0.23]"
   ]
  },
  {
   "cell_type": "code",
   "execution_count": 39,
   "id": "0ab2294f",
   "metadata": {},
   "outputs": [],
   "source": [
    "new_df=pd.concat([df_0,df_1],axis=0)"
   ]
  },
  {
   "cell_type": "code",
   "execution_count": 40,
   "id": "277a8be2",
   "metadata": {
    "scrolled": false
   },
   "outputs": [
    {
     "data": {
      "text/html": [
       "<div>\n",
       "<style scoped>\n",
       "    .dataframe tbody tr th:only-of-type {\n",
       "        vertical-align: middle;\n",
       "    }\n",
       "\n",
       "    .dataframe tbody tr th {\n",
       "        vertical-align: top;\n",
       "    }\n",
       "\n",
       "    .dataframe thead th {\n",
       "        text-align: right;\n",
       "    }\n",
       "</style>\n",
       "<table border=\"1\" class=\"dataframe\">\n",
       "  <thead>\n",
       "    <tr style=\"text-align: right;\">\n",
       "      <th></th>\n",
       "      <th>question1</th>\n",
       "      <th>question2</th>\n",
       "      <th>is_duplicate</th>\n",
       "      <th>q1_len</th>\n",
       "      <th>q2_len</th>\n",
       "      <th>q1_num_words</th>\n",
       "      <th>q2_num_words</th>\n",
       "      <th>word_total</th>\n",
       "      <th>word_common</th>\n",
       "      <th>word_share</th>\n",
       "    </tr>\n",
       "  </thead>\n",
       "  <tbody>\n",
       "    <tr>\n",
       "      <th>1</th>\n",
       "      <td>what is the stori of kohinoor koh i noor diamond</td>\n",
       "      <td>what would happen if the indian govern stole t...</td>\n",
       "      <td>0</td>\n",
       "      <td>48</td>\n",
       "      <td>81</td>\n",
       "      <td>10</td>\n",
       "      <td>15</td>\n",
       "      <td>24</td>\n",
       "      <td>7</td>\n",
       "      <td>0.29</td>\n",
       "    </tr>\n",
       "    <tr>\n",
       "      <th>2</th>\n",
       "      <td>how can i increa the speed of my internet conn...</td>\n",
       "      <td>how can internet speed be increas by hack thro...</td>\n",
       "      <td>0</td>\n",
       "      <td>65</td>\n",
       "      <td>52</td>\n",
       "      <td>14</td>\n",
       "      <td>10</td>\n",
       "      <td>24</td>\n",
       "      <td>4</td>\n",
       "      <td>0.17</td>\n",
       "    </tr>\n",
       "    <tr>\n",
       "      <th>3</th>\n",
       "      <td>whi am i mental veri lone how can i solv it</td>\n",
       "      <td>find the remaind when 23 24 math is divid by 2...</td>\n",
       "      <td>0</td>\n",
       "      <td>43</td>\n",
       "      <td>50</td>\n",
       "      <td>11</td>\n",
       "      <td>12</td>\n",
       "      <td>20</td>\n",
       "      <td>0</td>\n",
       "      <td>0.00</td>\n",
       "    </tr>\n",
       "    <tr>\n",
       "      <th>4</th>\n",
       "      <td>which one dissolv in water quikli sugar salt m...</td>\n",
       "      <td>which fish would surviv in salt water</td>\n",
       "      <td>0</td>\n",
       "      <td>70</td>\n",
       "      <td>37</td>\n",
       "      <td>13</td>\n",
       "      <td>7</td>\n",
       "      <td>20</td>\n",
       "      <td>4</td>\n",
       "      <td>0.20</td>\n",
       "    </tr>\n",
       "    <tr>\n",
       "      <th>6</th>\n",
       "      <td>should i buy tiago</td>\n",
       "      <td>what keep childern activ and far from phone an...</td>\n",
       "      <td>0</td>\n",
       "      <td>18</td>\n",
       "      <td>58</td>\n",
       "      <td>4</td>\n",
       "      <td>11</td>\n",
       "      <td>14</td>\n",
       "      <td>0</td>\n",
       "      <td>0.00</td>\n",
       "    </tr>\n",
       "    <tr>\n",
       "      <th>...</th>\n",
       "      <td>...</td>\n",
       "      <td>...</td>\n",
       "      <td>...</td>\n",
       "      <td>...</td>\n",
       "      <td>...</td>\n",
       "      <td>...</td>\n",
       "      <td>...</td>\n",
       "      <td>...</td>\n",
       "      <td>...</td>\n",
       "      <td>...</td>\n",
       "    </tr>\n",
       "    <tr>\n",
       "      <th>404280</th>\n",
       "      <td>what are some outfit idea to wear to a frat parti</td>\n",
       "      <td>what are some outfit idea wear to a frat theme...</td>\n",
       "      <td>1</td>\n",
       "      <td>49</td>\n",
       "      <td>52</td>\n",
       "      <td>11</td>\n",
       "      <td>11</td>\n",
       "      <td>21</td>\n",
       "      <td>10</td>\n",
       "      <td>0.48</td>\n",
       "    </tr>\n",
       "    <tr>\n",
       "      <th>404281</th>\n",
       "      <td>whi is manaphi childish in pokémon ranger and ...</td>\n",
       "      <td>whi is manaphi annoy in pokemon ranger and the...</td>\n",
       "      <td>1</td>\n",
       "      <td>66</td>\n",
       "      <td>63</td>\n",
       "      <td>13</td>\n",
       "      <td>13</td>\n",
       "      <td>24</td>\n",
       "      <td>10</td>\n",
       "      <td>0.42</td>\n",
       "    </tr>\n",
       "    <tr>\n",
       "      <th>404282</th>\n",
       "      <td>how doe a long distanc relationship work</td>\n",
       "      <td>how are long distanc relationship maintain</td>\n",
       "      <td>1</td>\n",
       "      <td>40</td>\n",
       "      <td>42</td>\n",
       "      <td>7</td>\n",
       "      <td>6</td>\n",
       "      <td>13</td>\n",
       "      <td>4</td>\n",
       "      <td>0.31</td>\n",
       "    </tr>\n",
       "    <tr>\n",
       "      <th>404284</th>\n",
       "      <td>what doe jainism say about homosexu</td>\n",
       "      <td>what doe jainism say about gay and homosexu</td>\n",
       "      <td>1</td>\n",
       "      <td>35</td>\n",
       "      <td>43</td>\n",
       "      <td>6</td>\n",
       "      <td>8</td>\n",
       "      <td>14</td>\n",
       "      <td>6</td>\n",
       "      <td>0.43</td>\n",
       "    </tr>\n",
       "    <tr>\n",
       "      <th>404286</th>\n",
       "      <td>do you believ there is life after death</td>\n",
       "      <td>is it true that there is life after death</td>\n",
       "      <td>1</td>\n",
       "      <td>39</td>\n",
       "      <td>41</td>\n",
       "      <td>8</td>\n",
       "      <td>9</td>\n",
       "      <td>16</td>\n",
       "      <td>5</td>\n",
       "      <td>0.31</td>\n",
       "    </tr>\n",
       "  </tbody>\n",
       "</table>\n",
       "<p>348249 rows × 10 columns</p>\n",
       "</div>"
      ],
      "text/plain": [
       "                                                question1  \\\n",
       "1        what is the stori of kohinoor koh i noor diamond   \n",
       "2       how can i increa the speed of my internet conn...   \n",
       "3             whi am i mental veri lone how can i solv it   \n",
       "4       which one dissolv in water quikli sugar salt m...   \n",
       "6                                      should i buy tiago   \n",
       "...                                                   ...   \n",
       "404280  what are some outfit idea to wear to a frat parti   \n",
       "404281  whi is manaphi childish in pokémon ranger and ...   \n",
       "404282           how doe a long distanc relationship work   \n",
       "404284                what doe jainism say about homosexu   \n",
       "404286            do you believ there is life after death   \n",
       "\n",
       "                                                question2  is_duplicate  \\\n",
       "1       what would happen if the indian govern stole t...             0   \n",
       "2       how can internet speed be increas by hack thro...             0   \n",
       "3       find the remaind when 23 24 math is divid by 2...             0   \n",
       "4                   which fish would surviv in salt water             0   \n",
       "6       what keep childern activ and far from phone an...             0   \n",
       "...                                                   ...           ...   \n",
       "404280  what are some outfit idea wear to a frat theme...             1   \n",
       "404281  whi is manaphi annoy in pokemon ranger and the...             1   \n",
       "404282         how are long distanc relationship maintain             1   \n",
       "404284        what doe jainism say about gay and homosexu             1   \n",
       "404286          is it true that there is life after death             1   \n",
       "\n",
       "        q1_len  q2_len  q1_num_words  q2_num_words  word_total  word_common  \\\n",
       "1           48      81            10            15          24            7   \n",
       "2           65      52            14            10          24            4   \n",
       "3           43      50            11            12          20            0   \n",
       "4           70      37            13             7          20            4   \n",
       "6           18      58             4            11          14            0   \n",
       "...        ...     ...           ...           ...         ...          ...   \n",
       "404280      49      52            11            11          21           10   \n",
       "404281      66      63            13            13          24           10   \n",
       "404282      40      42             7             6          13            4   \n",
       "404284      35      43             6             8          14            6   \n",
       "404286      39      41             8             9          16            5   \n",
       "\n",
       "        word_share  \n",
       "1             0.29  \n",
       "2             0.17  \n",
       "3             0.00  \n",
       "4             0.20  \n",
       "6             0.00  \n",
       "...            ...  \n",
       "404280        0.48  \n",
       "404281        0.42  \n",
       "404282        0.31  \n",
       "404284        0.43  \n",
       "404286        0.31  \n",
       "\n",
       "[348249 rows x 10 columns]"
      ]
     },
     "execution_count": 40,
     "metadata": {},
     "output_type": "execute_result"
    }
   ],
   "source": [
    "new_df"
   ]
  },
  {
   "cell_type": "markdown",
   "id": "4ea12dd8",
   "metadata": {},
   "source": [
    "# EDA 1"
   ]
  },
  {
   "cell_type": "code",
   "execution_count": 42,
   "id": "ccefad07",
   "metadata": {},
   "outputs": [
    {
     "name": "stderr",
     "output_type": "stream",
     "text": [
      "C:\\Users\\Neon4\\anconda\\Lib\\site-packages\\seaborn\\axisgrid.py:118: UserWarning: The figure layout has changed to tight\n",
      "  self._figure.tight_layout(*args, **kwargs)\n"
     ]
    },
    {
     "name": "stdout",
     "output_type": "stream",
     "text": [
      "minimum characters 0\n",
      "maximum characters 562\n",
      "average num of characters 53\n"
     ]
    },
    {
     "data": {
      "image/png": "[encoded data removed]",
      "text/plain": [
       "<Figure size 500x500 with 1 Axes>"
      ]
     },
     "metadata": {},
     "output_type": "display_data"
    }
   ],
   "source": [
    "# Analysis of features\n",
    "sns.displot(new_df['q1_len'])\n",
    "plt.yscale('log')\n",
    "print('minimum characters',new_df['q1_len'].min())\n",
    "print('maximum characters',new_df['q1_len'].max())\n",
    "print('average num of characters',int(new_df['q1_len'].mean()))"
   ]
  },
  {
   "cell_type": "code",
   "execution_count": 43,
   "id": "85e3ba7f",
   "metadata": {},
   "outputs": [
    {
     "name": "stderr",
     "output_type": "stream",
     "text": [
      "C:\\Users\\Neon4\\anconda\\Lib\\site-packages\\seaborn\\axisgrid.py:118: UserWarning: The figure layout has changed to tight\n",
      "  self._figure.tight_layout(*args, **kwargs)\n"
     ]
    },
    {
     "name": "stdout",
     "output_type": "stream",
     "text": [
      "minimum characters 0\n",
      "maximum characters 1073\n",
      "average num of characters 54\n"
     ]
    },
    {
     "data": {
      "image/png": "[encoded data removed]",
      "text/plain": [
       "<Figure size 500x500 with 1 Axes>"
      ]
     },
     "metadata": {},
     "output_type": "display_data"
    }
   ],
   "source": [
    "sns.displot(new_df['q2_len'])\n",
    "plt.yscale('log')\n",
    "\n",
    "print('minimum characters',new_df['q2_len'].min())\n",
    "print('maximum characters',new_df['q2_len'].max())\n",
    "print('average num of characters',int(new_df['q2_len'].mean()))"
   ]
  },
  {
   "cell_type": "code",
   "execution_count": 44,
   "id": "dbfa1bb2",
   "metadata": {},
   "outputs": [
    {
     "name": "stderr",
     "output_type": "stream",
     "text": [
      "C:\\Users\\Neon4\\anconda\\Lib\\site-packages\\seaborn\\axisgrid.py:118: UserWarning: The figure layout has changed to tight\n",
      "  self._figure.tight_layout(*args, **kwargs)\n"
     ]
    },
    {
     "name": "stdout",
     "output_type": "stream",
     "text": [
      "minimum words 1\n",
      "maximum words 128\n",
      "average num of words 11\n"
     ]
    },
    {
     "data": {
      "image/png": "[encoded data removed]",
      "text/plain": [
       "<Figure size 500x500 with 1 Axes>"
      ]
     },
     "metadata": {},
     "output_type": "display_data"
    }
   ],
   "source": [
    "sns.displot(new_df['q1_num_words'])\n",
    "plt.yscale('log')\n",
    "\n",
    "print('minimum words',new_df['q1_num_words'].min())\n",
    "print('maximum words',new_df['q1_num_words'].max())\n",
    "print('average num of words',int(new_df['q1_num_words'].mean()))"
   ]
  },
  {
   "cell_type": "code",
   "execution_count": 45,
   "id": "956b6b8e",
   "metadata": {},
   "outputs": [
    {
     "name": "stderr",
     "output_type": "stream",
     "text": [
      "C:\\Users\\Neon4\\anconda\\Lib\\site-packages\\seaborn\\axisgrid.py:118: UserWarning: The figure layout has changed to tight\n",
      "  self._figure.tight_layout(*args, **kwargs)\n"
     ]
    },
    {
     "name": "stdout",
     "output_type": "stream",
     "text": [
      "minimum words 1\n",
      "maximum words 249\n",
      "average num of words 11\n"
     ]
    },
    {
     "data": {
      "image/png": "[encoded data removed]",
      "text/plain": [
       "<Figure size 500x500 with 1 Axes>"
      ]
     },
     "metadata": {},
     "output_type": "display_data"
    }
   ],
   "source": [
    "sns.displot(new_df['q2_num_words'])\n",
    "plt.yscale('log')\n",
    "\n",
    "print('minimum words',new_df['q2_num_words'].min())\n",
    "print('maximum words',new_df['q2_num_words'].max())\n",
    "print('average num of words',int(new_df['q2_num_words'].mean()))"
   ]
  },
  {
   "cell_type": "code",
   "execution_count": 46,
   "id": "0007e7c0",
   "metadata": {},
   "outputs": [
    {
     "name": "stderr",
     "output_type": "stream",
     "text": [
      "C:\\Users\\Neon4\\AppData\\Local\\Temp\\ipykernel_10840\\461907782.py:2: UserWarning: \n",
      "\n",
      "`distplot` is a deprecated function and will be removed in seaborn v0.14.0.\n",
      "\n",
      "Please adapt your code to use either `displot` (a figure-level function with\n",
      "similar flexibility) or `histplot` (an axes-level function for histograms).\n",
      "\n",
      "For a guide to updating your code to use the new functions, please see\n",
      "https://gist.github.com/mwaskom/de44147ed2974457ad6372750bbe5751\n",
      "\n",
      "  sns.distplot(new_df[new_df['is_duplicate'] == 0]['word_common'],label='non duplicate',kde=False,bins=50)\n",
      "C:\\Users\\Neon4\\AppData\\Local\\Temp\\ipykernel_10840\\461907782.py:3: UserWarning: \n",
      "\n",
      "`distplot` is a deprecated function and will be removed in seaborn v0.14.0.\n",
      "\n",
      "Please adapt your code to use either `displot` (a figure-level function with\n",
      "similar flexibility) or `histplot` (an axes-level function for histograms).\n",
      "\n",
      "For a guide to updating your code to use the new functions, please see\n",
      "https://gist.github.com/mwaskom/de44147ed2974457ad6372750bbe5751\n",
      "\n",
      "  sns.distplot(new_df[new_df['is_duplicate'] == 1]['word_common'],label='duplicate',kde=False,bins=50)\n"
     ]
    },
    {
     "data": {
      "image/png": "[encoded data removed]",
      "text/plain": [
       "<Figure size 2000x900 with 1 Axes>"
      ]
     },
     "metadata": {},
     "output_type": "display_data"
    }
   ],
   "source": [
    "plt.figure(figsize=(20,9))\n",
    "sns.distplot(new_df[new_df['is_duplicate'] == 0]['word_common'],label='non duplicate',kde=False,bins=50)\n",
    "sns.distplot(new_df[new_df['is_duplicate'] == 1]['word_common'],label='duplicate',kde=False,bins=50)\n",
    "plt.legend()\n",
    "plt.show()"
   ]
  },
  {
   "cell_type": "code",
   "execution_count": 47,
   "id": "b22cc9e9",
   "metadata": {},
   "outputs": [
    {
     "name": "stderr",
     "output_type": "stream",
     "text": [
      "C:\\Users\\Neon4\\AppData\\Local\\Temp\\ipykernel_10840\\635792968.py:2: UserWarning: \n",
      "\n",
      "`distplot` is a deprecated function and will be removed in seaborn v0.14.0.\n",
      "\n",
      "Please adapt your code to use either `displot` (a figure-level function with\n",
      "similar flexibility) or `histplot` (an axes-level function for histograms).\n",
      "\n",
      "For a guide to updating your code to use the new functions, please see\n",
      "https://gist.github.com/mwaskom/de44147ed2974457ad6372750bbe5751\n",
      "\n",
      "  sns.distplot(new_df[new_df['is_duplicate'] == 0]['word_share'],label='non duplicate',bins=50)\n",
      "C:\\Users\\Neon4\\AppData\\Local\\Temp\\ipykernel_10840\\635792968.py:3: UserWarning: \n",
      "\n",
      "`distplot` is a deprecated function and will be removed in seaborn v0.14.0.\n",
      "\n",
      "Please adapt your code to use either `displot` (a figure-level function with\n",
      "similar flexibility) or `histplot` (an axes-level function for histograms).\n",
      "\n",
      "For a guide to updating your code to use the new functions, please see\n",
      "https://gist.github.com/mwaskom/de44147ed2974457ad6372750bbe5751\n",
      "\n",
      "  sns.distplot(new_df[new_df['is_duplicate'] == 1]['word_share'],label='duplicate',bins=50)\n"
     ]
    },
    {
     "data": {
      "image/png": "[encoded data removed]",
      "text/plain": [
       "<Figure size 2000x900 with 1 Axes>"
      ]
     },
     "metadata": {},
     "output_type": "display_data"
    }
   ],
   "source": [
    "plt.figure(figsize=(20,9))\n",
    "sns.distplot(new_df[new_df['is_duplicate'] == 0]['word_share'],label='non duplicate',bins=50)\n",
    "sns.distplot(new_df[new_df['is_duplicate'] == 1]['word_share'],label='duplicate',bins=50)\n",
    "plt.legend()\n",
    "plt.show()"
   ]
  },
  {
   "cell_type": "code",
   "execution_count": 48,
   "id": "08bfbb64",
   "metadata": {},
   "outputs": [
    {
     "name": "stderr",
     "output_type": "stream",
     "text": [
      "C:\\Users\\Neon4\\AppData\\Local\\Temp\\ipykernel_10840\\2776808923.py:2: UserWarning: \n",
      "\n",
      "`distplot` is a deprecated function and will be removed in seaborn v0.14.0.\n",
      "\n",
      "Please adapt your code to use either `displot` (a figure-level function with\n",
      "similar flexibility) or `histplot` (an axes-level function for histograms).\n",
      "\n",
      "For a guide to updating your code to use the new functions, please see\n",
      "https://gist.github.com/mwaskom/de44147ed2974457ad6372750bbe5751\n",
      "\n",
      "  sns.distplot(new_df[new_df['is_duplicate'] == 0]['word_total'],label='non duplicate')\n",
      "C:\\Users\\Neon4\\AppData\\Local\\Temp\\ipykernel_10840\\2776808923.py:3: UserWarning: \n",
      "\n",
      "`distplot` is a deprecated function and will be removed in seaborn v0.14.0.\n",
      "\n",
      "Please adapt your code to use either `displot` (a figure-level function with\n",
      "similar flexibility) or `histplot` (an axes-level function for histograms).\n",
      "\n",
      "For a guide to updating your code to use the new functions, please see\n",
      "https://gist.github.com/mwaskom/de44147ed2974457ad6372750bbe5751\n",
      "\n",
      "  sns.distplot(new_df[new_df['is_duplicate'] == 1]['word_total'],label='duplicate')\n"
     ]
    },
    {
     "data": {
      "image/png": "[encoded data removed]",
      "text/plain": [
       "<Figure size 640x480 with 1 Axes>"
      ]
     },
     "metadata": {},
     "output_type": "display_data"
    }
   ],
   "source": [
    "# total words\n",
    "sns.distplot(new_df[new_df['is_duplicate'] == 0]['word_total'],label='non duplicate')\n",
    "sns.distplot(new_df[new_df['is_duplicate'] == 1]['word_total'],label='duplicate')\n",
    "plt.legend()\n",
    "plt.show()"
   ]
  },
  {
   "cell_type": "markdown",
   "id": "1d9c8799",
   "metadata": {},
   "source": [
    "# advance Feature creation"
   ]
  },
  {
   "cell_type": "markdown",
   "id": "815a9871",
   "metadata": {},
   "source": [
    "1 q1_t =no. of tokens in q1\n",
    "\n",
    "2 q2_t =no. of tokens in q2\n",
    "\n",
    "3 q1_s =no. of stopwords in q1 \n",
    "\n",
    "4 q2_s =no. of stopwords in q2 \n",
    "\n"
   ]
  },
  {
   "cell_type": "markdown",
   "id": "c94c3561",
   "metadata": {},
   "source": [
    "5 csc =  count of common stopwords\n",
    "\n",
    "6 ctc = count of common  tokens "
   ]
  },
  {
   "cell_type": "markdown",
   "id": "6ce54e2b",
   "metadata": {},
   "source": [
    "7 cwc_min = count of common words between q1 and q2 divide by min no.of words in q1 or q2\n",
    "\n",
    "8  cwc_max = count of common words between q1 and q2 divide by max no.of words in q1 or q2"
   ]
  },
  {
   "cell_type": "markdown",
   "id": "3000a0f7",
   "metadata": {},
   "source": [
    "9csc_min= count of common stopwords between q1 and q2 divide by min no.of stopwords in q1 or q2\n",
    "\n",
    "10 csc_max= count of common stopwords between q1 and q2 divide by max no.of stopwords in q1 or q2"
   ]
  },
  {
   "cell_type": "markdown",
   "id": "32d2450b",
   "metadata": {},
   "source": [
    "11 ctc_min = count of common tokens between q1 and q2 divide by min no.of tokens in q1 or q2\n",
    "\n",
    "12 ctc_max = count of common tokens between q1 and q2 divide by max no.of tokens in q1 or q2"
   ]
  },
  {
   "cell_type": "markdown",
   "id": "e9d3a7e0",
   "metadata": {},
   "source": [
    "13 first_w_eq= 1 if first words of q1 and q2 are equal\n",
    "\n",
    "14 last_w_eq= 1 if last words of q1 and q2 are equal"
   ]
  },
  {
   "cell_type": "code",
   "execution_count": 49,
   "id": "711ea564",
   "metadata": {},
   "outputs": [],
   "source": [
    "import nltk\n",
    "from nltk.corpus import stopwords\n",
    "from nltk.tokenize import word_tokenize\n",
    "import swifter"
   ]
  },
  {
   "cell_type": "code",
   "execution_count": 52,
   "id": "5503a9d8",
   "metadata": {},
   "outputs": [
    {
     "name": "stderr",
     "output_type": "stream",
     "text": [
      "[nltk_data] Downloading package stopwords to\n",
      "[nltk_data]     C:\\Users\\Neon4\\AppData\\Roaming\\nltk_data...\n",
      "[nltk_data]   Package stopwords is already up-to-date!\n",
      "[nltk_data] Downloading package punkt to\n",
      "[nltk_data]     C:\\Users\\Neon4\\AppData\\Roaming\\nltk_data...\n",
      "[nltk_data]   Package punkt is already up-to-date!\n"
     ]
    },
    {
     "data": {
      "text/plain": [
       "True"
      ]
     },
     "execution_count": 52,
     "metadata": {},
     "output_type": "execute_result"
    }
   ],
   "source": [
    "nltk.download('stopwords')\n",
    "nltk.download('punkt')"
   ]
  },
  {
   "cell_type": "code",
   "execution_count": 53,
   "id": "13e68795",
   "metadata": {},
   "outputs": [],
   "source": [
    "def count_stopwords(text):\n",
    "    stop_words = set(stopwords.words('english'))\n",
    "    tokens = word_tokenize(text)\n",
    "    stopword_count = sum(1 for token in tokens if token.lower() in stop_words)\n",
    "    return stopword_count\n"
   ]
  },
  {
   "cell_type": "markdown",
   "id": "69e9fb18",
   "metadata": {},
   "source": [
    "Features 1 to 4"
   ]
  },
  {
   "cell_type": "code",
   "execution_count": 54,
   "id": "e09dac9e",
   "metadata": {},
   "outputs": [
    {
     "data": {
      "application/vnd.jupyter.widget-view+json": {
       "model_id": "74b450e32f2f4fac842e9f58dbefa1e8",
       "version_major": 2,
       "version_minor": 0
      },
      "text/plain": [
       "Pandas Apply:   0%|          | 0/348249 [00:00<?, ?it/s]"
      ]
     },
     "metadata": {},
     "output_type": "display_data"
    }
   ],
   "source": [
    "new_df['q1_s']=new_df['question1'].swifter.apply(count_stopwords)"
   ]
  },
  {
   "cell_type": "code",
   "execution_count": 55,
   "id": "30a40005",
   "metadata": {},
   "outputs": [
    {
     "data": {
      "application/vnd.jupyter.widget-view+json": {
       "model_id": "087909351d4c4e209dcc180bbe8d5eec",
       "version_major": 2,
       "version_minor": 0
      },
      "text/plain": [
       "Pandas Apply:   0%|          | 0/348249 [00:00<?, ?it/s]"
      ]
     },
     "metadata": {},
     "output_type": "display_data"
    }
   ],
   "source": [
    "new_df['q2_s']=new_df['question2'].swifter.apply(count_stopwords)"
   ]
  },
  {
   "cell_type": "code",
   "execution_count": 56,
   "id": "9b5fde01",
   "metadata": {},
   "outputs": [],
   "source": [
    "new_df['q1_t']=new_df['q1_num_words']-new_df['q1_s'] \n",
    "new_df['q2_t']=new_df['q2_num_words']-new_df['q2_s']"
   ]
  },
  {
   "cell_type": "markdown",
   "id": "96baa116",
   "metadata": {},
   "source": [
    "feature 5 and 6"
   ]
  },
  {
   "cell_type": "code",
   "execution_count": 58,
   "id": "3fff2fb6",
   "metadata": {},
   "outputs": [],
   "source": [
    "def count_common_tokens(row):\n",
    "    stop_words = set(stopwords.words('english'))\n",
    "    \n",
    "    # Extract values from the row\n",
    "    q1 = row['question1']\n",
    "    q2 = row['question2']\n",
    "    \n",
    "    # Tokenize the words in each question\n",
    "    tokens_q1 = word_tokenize(q1)\n",
    "    tokens_q2 = word_tokenize(q2)\n",
    "    \n",
    "    # Convert tokens comparison\n",
    "    tokens_q1 = set(token for token in tokens_q1 if token not in stop_words)\n",
    "    tokens_q2 = set(token for token in tokens_q2 if token not in stop_words)\n",
    "    \n",
    "    # Find the common stopwords\n",
    "    common_tokens = tokens_q1.intersection(tokens_q2)\n",
    "    \n",
    "    return len(common_tokens) "
   ]
  },
  {
   "cell_type": "code",
   "execution_count": 59,
   "id": "4cf8ce4d",
   "metadata": {},
   "outputs": [
    {
     "data": {
      "application/vnd.jupyter.widget-view+json": {
       "model_id": "fcb0868a44ab40b4a80fa35d29b904f3",
       "version_major": 2,
       "version_minor": 0
      },
      "text/plain": [
       "Pandas Apply:   0%|          | 0/348249 [00:00<?, ?it/s]"
      ]
     },
     "metadata": {},
     "output_type": "display_data"
    }
   ],
   "source": [
    "new_df['ctc']=new_df[['question1','question2']].swifter.apply(count_common_tokens, axis=1)"
   ]
  },
  {
   "cell_type": "code",
   "execution_count": 70,
   "id": "7deb0133",
   "metadata": {},
   "outputs": [],
   "source": [
    "new_df['csc']=new_df['word_common']-new_df['ctc']"
   ]
  },
  {
   "cell_type": "markdown",
   "id": "3fc85b9b",
   "metadata": {},
   "source": [
    "Feature 7 to 12"
   ]
  },
  {
   "cell_type": "code",
   "execution_count": 78,
   "id": "dc035e76",
   "metadata": {},
   "outputs": [],
   "source": [
    "new_df['cwc_min'] = new_df['word_common'] / (new_df[['q1_num_words', 'q2_num_words']].min(axis=1))\n",
    "new_df['cwc_max']= new_df['word_common'] / new_df[['q1_num_words', 'q2_num_words']].max(axis=1)\n"
   ]
  },
  {
   "cell_type": "code",
   "execution_count": 79,
   "id": "6593cc76",
   "metadata": {},
   "outputs": [],
   "source": [
    "new_df['cwc_min'] = new_df['cwc_min'].round(3)\n",
    "new_df['cwc_max'] = new_df['cwc_max'].round(3)"
   ]
  },
  {
   "cell_type": "markdown",
   "id": "8b2c8cac",
   "metadata": {},
   "source": [
    "# removing questions only containg stop words and only tokens"
   ]
  },
  {
   "cell_type": "code",
   "execution_count": 99,
   "id": "01d03d88",
   "metadata": {},
   "outputs": [
    {
     "data": {
      "text/plain": [
       "(348249, 22)"
      ]
     },
     "execution_count": 99,
     "metadata": {},
     "output_type": "execute_result"
    }
   ],
   "source": [
    "new_df.shape"
   ]
  },
  {
   "cell_type": "code",
   "execution_count": 103,
   "id": "7dbe0df5",
   "metadata": {},
   "outputs": [],
   "source": [
    "new_df=new_df[(new_df['q1_t']!=0)&(new_df['q2_t']!=0)&(new_df['q2_s']!=0)&(new_df['q1_s']!=0)]"
   ]
  },
  {
   "cell_type": "code",
   "execution_count": 104,
   "id": "8988ca1e",
   "metadata": {},
   "outputs": [
    {
     "data": {
      "text/plain": [
       "(344204, 22)"
      ]
     },
     "execution_count": 104,
     "metadata": {},
     "output_type": "execute_result"
    }
   ],
   "source": [
    "new_df.shape"
   ]
  },
  {
   "cell_type": "code",
   "execution_count": 105,
   "id": "4a26af20",
   "metadata": {},
   "outputs": [
    {
     "name": "stderr",
     "output_type": "stream",
     "text": [
      "C:\\Users\\Neon4\\AppData\\Local\\Temp\\ipykernel_10840\\2882870639.py:1: SettingWithCopyWarning: \n",
      "A value is trying to be set on a copy of a slice from a DataFrame.\n",
      "Try using .loc[row_indexer,col_indexer] = value instead\n",
      "\n",
      "See the caveats in the documentation: https://pandas.pydata.org/pandas-docs/stable/user_guide/indexing.html#returning-a-view-versus-a-copy\n",
      "  new_df['ctc_min']=new_df['ctc'] / new_df[['q1_t', 'q2_t']].min(axis=1)\n",
      "C:\\Users\\Neon4\\AppData\\Local\\Temp\\ipykernel_10840\\2882870639.py:2: SettingWithCopyWarning: \n",
      "A value is trying to be set on a copy of a slice from a DataFrame.\n",
      "Try using .loc[row_indexer,col_indexer] = value instead\n",
      "\n",
      "See the caveats in the documentation: https://pandas.pydata.org/pandas-docs/stable/user_guide/indexing.html#returning-a-view-versus-a-copy\n",
      "  new_df['ctc_max']=new_df['ctc'] / new_df[['q1_t', 'q2_t']].max(axis=1)\n"
     ]
    }
   ],
   "source": [
    "new_df['ctc_min']=new_df['ctc'] / new_df[['q1_t', 'q2_t']].min(axis=1)\n",
    "new_df['ctc_max']=new_df['ctc'] / new_df[['q1_t', 'q2_t']].max(axis=1)"
   ]
  },
  {
   "cell_type": "code",
   "execution_count": 106,
   "id": "86b73e4d",
   "metadata": {},
   "outputs": [
    {
     "name": "stderr",
     "output_type": "stream",
     "text": [
      "C:\\Users\\Neon4\\AppData\\Local\\Temp\\ipykernel_10840\\667163712.py:1: SettingWithCopyWarning: \n",
      "A value is trying to be set on a copy of a slice from a DataFrame.\n",
      "Try using .loc[row_indexer,col_indexer] = value instead\n",
      "\n",
      "See the caveats in the documentation: https://pandas.pydata.org/pandas-docs/stable/user_guide/indexing.html#returning-a-view-versus-a-copy\n",
      "  new_df['ctc_max']=new_df['ctc_max'].round(3)\n",
      "C:\\Users\\Neon4\\AppData\\Local\\Temp\\ipykernel_10840\\667163712.py:2: SettingWithCopyWarning: \n",
      "A value is trying to be set on a copy of a slice from a DataFrame.\n",
      "Try using .loc[row_indexer,col_indexer] = value instead\n",
      "\n",
      "See the caveats in the documentation: https://pandas.pydata.org/pandas-docs/stable/user_guide/indexing.html#returning-a-view-versus-a-copy\n",
      "  new_df['ctc_min']=new_df['ctc_min'].round(3)\n"
     ]
    }
   ],
   "source": [
    "new_df['ctc_max']=new_df['ctc_max'].round(3)\n",
    "new_df['ctc_min']=new_df['ctc_min'].round(3)"
   ]
  },
  {
   "cell_type": "code",
   "execution_count": 107,
   "id": "f3fac145",
   "metadata": {},
   "outputs": [
    {
     "name": "stderr",
     "output_type": "stream",
     "text": [
      "C:\\Users\\Neon4\\AppData\\Local\\Temp\\ipykernel_10840\\620732124.py:1: SettingWithCopyWarning: \n",
      "A value is trying to be set on a copy of a slice from a DataFrame.\n",
      "Try using .loc[row_indexer,col_indexer] = value instead\n",
      "\n",
      "See the caveats in the documentation: https://pandas.pydata.org/pandas-docs/stable/user_guide/indexing.html#returning-a-view-versus-a-copy\n",
      "  new_df['csc_min']= new_df['csc'] / new_df[['q1_s', 'q2_s']].min(axis=1)\n",
      "C:\\Users\\Neon4\\AppData\\Local\\Temp\\ipykernel_10840\\620732124.py:2: SettingWithCopyWarning: \n",
      "A value is trying to be set on a copy of a slice from a DataFrame.\n",
      "Try using .loc[row_indexer,col_indexer] = value instead\n",
      "\n",
      "See the caveats in the documentation: https://pandas.pydata.org/pandas-docs/stable/user_guide/indexing.html#returning-a-view-versus-a-copy\n",
      "  new_df['csc_max']= new_df['csc'] / new_df[['q1_s', 'q2_s']].max(axis=1)\n"
     ]
    }
   ],
   "source": [
    "new_df['csc_min']= new_df['csc'] / new_df[['q1_s', 'q2_s']].min(axis=1)\n",
    "new_df['csc_max']= new_df['csc'] / new_df[['q1_s', 'q2_s']].max(axis=1)"
   ]
  },
  {
   "cell_type": "code",
   "execution_count": 108,
   "id": "7cc5739a",
   "metadata": {},
   "outputs": [
    {
     "name": "stderr",
     "output_type": "stream",
     "text": [
      "C:\\Users\\Neon4\\AppData\\Local\\Temp\\ipykernel_10840\\1286014478.py:1: SettingWithCopyWarning: \n",
      "A value is trying to be set on a copy of a slice from a DataFrame.\n",
      "Try using .loc[row_indexer,col_indexer] = value instead\n",
      "\n",
      "See the caveats in the documentation: https://pandas.pydata.org/pandas-docs/stable/user_guide/indexing.html#returning-a-view-versus-a-copy\n",
      "  new_df['csc_min'] = new_df['csc_min'].round(3)\n",
      "C:\\Users\\Neon4\\AppData\\Local\\Temp\\ipykernel_10840\\1286014478.py:2: SettingWithCopyWarning: \n",
      "A value is trying to be set on a copy of a slice from a DataFrame.\n",
      "Try using .loc[row_indexer,col_indexer] = value instead\n",
      "\n",
      "See the caveats in the documentation: https://pandas.pydata.org/pandas-docs/stable/user_guide/indexing.html#returning-a-view-versus-a-copy\n",
      "  new_df['csc_max'] = new_df['csc_max'].round(3)\n"
     ]
    }
   ],
   "source": [
    "new_df['csc_min'] = new_df['csc_min'].round(3)\n",
    "new_df['csc_max'] = new_df['csc_max'].round(3)"
   ]
  },
  {
   "cell_type": "markdown",
   "id": "36457d98",
   "metadata": {},
   "source": [
    "feature 13 and 14"
   ]
  },
  {
   "cell_type": "code",
   "execution_count": 110,
   "id": "0ddb623b",
   "metadata": {},
   "outputs": [],
   "source": [
    "def are_first_words_equal(row):\n",
    "    # Extract values from the row\n",
    "    q1 = row['question1']\n",
    "    q2 = row['question2']\n",
    "    \n",
    "    # Tokenize the words in each question\n",
    "    tokens_q1 = word_tokenize(q1)\n",
    "    tokens_q2 = word_tokenize(q2)\n",
    "    \n",
    "    # Check if the first words are equal (case-insensitive)\n",
    "    first_word_q1 = tokens_q1[0] if tokens_q1 else None\n",
    "    first_word_q2 = tokens_q2[0] if tokens_q2 else None\n",
    "    \n",
    "    return 1 if first_word_q1 == first_word_q2 else 0"
   ]
  },
  {
   "cell_type": "code",
   "execution_count": 111,
   "id": "cfb0fb5e",
   "metadata": {},
   "outputs": [
    {
     "data": {
      "application/vnd.jupyter.widget-view+json": {
       "model_id": "f63c7c88be5f4953935daa061eda6dc5",
       "version_major": 2,
       "version_minor": 0
      },
      "text/plain": [
       "Pandas Apply:   0%|          | 0/344204 [00:00<?, ?it/s]"
      ]
     },
     "metadata": {},
     "output_type": "display_data"
    },
    {
     "name": "stderr",
     "output_type": "stream",
     "text": [
      "C:\\Users\\Neon4\\AppData\\Local\\Temp\\ipykernel_10840\\1976285059.py:1: SettingWithCopyWarning: \n",
      "A value is trying to be set on a copy of a slice from a DataFrame.\n",
      "Try using .loc[row_indexer,col_indexer] = value instead\n",
      "\n",
      "See the caveats in the documentation: https://pandas.pydata.org/pandas-docs/stable/user_guide/indexing.html#returning-a-view-versus-a-copy\n",
      "  new_df['first_w_eq']=new_df[['question1','question2']].swifter.apply(are_first_words_equal, axis=1)\n"
     ]
    }
   ],
   "source": [
    "new_df['first_w_eq']=new_df[['question1','question2']].swifter.apply(are_first_words_equal, axis=1)"
   ]
  },
  {
   "cell_type": "code",
   "execution_count": 112,
   "id": "e4420153",
   "metadata": {},
   "outputs": [],
   "source": [
    "def are_last_words_equal(row):\n",
    "    # Extract values from the row\n",
    "    q1 = row['question1']\n",
    "    q2 = row['question2']\n",
    "    \n",
    "    # Tokenize the words in each question\n",
    "    tokens_q1 = word_tokenize(q1)\n",
    "    tokens_q2 = word_tokenize(q2)\n",
    "    \n",
    "    # Check if the first words are equal (case-insensitive)\n",
    "    first_word_q1 = tokens_q1[-1] if tokens_q1 else None\n",
    "    first_word_q2 = tokens_q2[-1] if tokens_q2 else None\n",
    "    \n",
    "    return 1 if first_word_q1 == first_word_q2 else 0"
   ]
  },
  {
   "cell_type": "code",
   "execution_count": 113,
   "id": "521a5fa0",
   "metadata": {},
   "outputs": [
    {
     "data": {
      "application/vnd.jupyter.widget-view+json": {
       "model_id": "56cd25b4ce5a4d7d9a8157a8aaf87921",
       "version_major": 2,
       "version_minor": 0
      },
      "text/plain": [
       "Pandas Apply:   0%|          | 0/344204 [00:00<?, ?it/s]"
      ]
     },
     "metadata": {},
     "output_type": "display_data"
    },
    {
     "name": "stderr",
     "output_type": "stream",
     "text": [
      "C:\\Users\\Neon4\\AppData\\Local\\Temp\\ipykernel_10840\\1685701210.py:1: SettingWithCopyWarning: \n",
      "A value is trying to be set on a copy of a slice from a DataFrame.\n",
      "Try using .loc[row_indexer,col_indexer] = value instead\n",
      "\n",
      "See the caveats in the documentation: https://pandas.pydata.org/pandas-docs/stable/user_guide/indexing.html#returning-a-view-versus-a-copy\n",
      "  new_df['last_w_eq']=new_df[['question1','question2']].swifter.apply(are_last_words_equal, axis=1)\n"
     ]
    }
   ],
   "source": [
    "new_df['last_w_eq']=new_df[['question1','question2']].swifter.apply(are_last_words_equal, axis=1)"
   ]
  },
  {
   "cell_type": "code",
   "execution_count": 114,
   "id": "e62ecd58",
   "metadata": {},
   "outputs": [
    {
     "name": "stderr",
     "output_type": "stream",
     "text": [
      "C:\\Users\\Neon4\\AppData\\Local\\Temp\\ipykernel_10840\\528256314.py:1: SettingWithCopyWarning: \n",
      "A value is trying to be set on a copy of a slice from a DataFrame.\n",
      "Try using .loc[row_indexer,col_indexer] = value instead\n",
      "\n",
      "See the caveats in the documentation: https://pandas.pydata.org/pandas-docs/stable/user_guide/indexing.html#returning-a-view-versus-a-copy\n",
      "  new_df['avg_words']=new_df['word_total']/2\n"
     ]
    }
   ],
   "source": [
    "new_df['avg_words']=new_df['word_total']/2"
   ]
  },
  {
   "cell_type": "markdown",
   "id": "f361d1d4",
   "metadata": {},
   "source": [
    "# EDA 2"
   ]
  },
  {
   "cell_type": "code",
   "execution_count": 115,
   "id": "68fa9ba8",
   "metadata": {},
   "outputs": [
    {
     "name": "stderr",
     "output_type": "stream",
     "text": [
      "C:\\Users\\Neon4\\AppData\\Local\\Temp\\ipykernel_10840\\2374662770.py:4: UserWarning: \n",
      "\n",
      "`distplot` is a deprecated function and will be removed in seaborn v0.14.0.\n",
      "\n",
      "Please adapt your code to use either `displot` (a figure-level function with\n",
      "similar flexibility) or `histplot` (an axes-level function for histograms).\n",
      "\n",
      "For a guide to updating your code to use the new functions, please see\n",
      "https://gist.github.com/mwaskom/de44147ed2974457ad6372750bbe5751\n",
      "\n",
      "  sns.distplot(new_df[new_df['is_duplicate'] == 0]['cwc_min'],label='non duplicate',kde=False,bins=30)\n",
      "C:\\Users\\Neon4\\AppData\\Local\\Temp\\ipykernel_10840\\2374662770.py:5: UserWarning: \n",
      "\n",
      "`distplot` is a deprecated function and will be removed in seaborn v0.14.0.\n",
      "\n",
      "Please adapt your code to use either `displot` (a figure-level function with\n",
      "similar flexibility) or `histplot` (an axes-level function for histograms).\n",
      "\n",
      "For a guide to updating your code to use the new functions, please see\n",
      "https://gist.github.com/mwaskom/de44147ed2974457ad6372750bbe5751\n",
      "\n",
      "  sns.distplot(new_df[new_df['is_duplicate'] == 1]['cwc_min'],label='duplicate',kde=False,bins=30)\n",
      "C:\\Users\\Neon4\\AppData\\Local\\Temp\\ipykernel_10840\\2374662770.py:11: UserWarning: \n",
      "\n",
      "`distplot` is a deprecated function and will be removed in seaborn v0.14.0.\n",
      "\n",
      "Please adapt your code to use either `displot` (a figure-level function with\n",
      "similar flexibility) or `histplot` (an axes-level function for histograms).\n",
      "\n",
      "For a guide to updating your code to use the new functions, please see\n",
      "https://gist.github.com/mwaskom/de44147ed2974457ad6372750bbe5751\n",
      "\n",
      "  sns.distplot(new_df[new_df['is_duplicate'] == 0]['cwc_max'],label='non duplicate',kde=False,bins=30)\n",
      "C:\\Users\\Neon4\\AppData\\Local\\Temp\\ipykernel_10840\\2374662770.py:12: UserWarning: \n",
      "\n",
      "`distplot` is a deprecated function and will be removed in seaborn v0.14.0.\n",
      "\n",
      "Please adapt your code to use either `displot` (a figure-level function with\n",
      "similar flexibility) or `histplot` (an axes-level function for histograms).\n",
      "\n",
      "For a guide to updating your code to use the new functions, please see\n",
      "https://gist.github.com/mwaskom/de44147ed2974457ad6372750bbe5751\n",
      "\n",
      "  sns.distplot(new_df[new_df['is_duplicate'] == 1]['cwc_max'],label='duplicate',kde=False,bins=30)\n"
     ]
    },
    {
     "data": {
      "text/plain": [
       "Text(0.5, 1.0, 'cwc_max')"
      ]
     },
     "execution_count": 115,
     "metadata": {},
     "output_type": "execute_result"
    },
    {
     "data": {
      "image/png": "[encoded data removed]",
      "text/plain": [
       "<Figure size 2400x600 with 2 Axes>"
      ]
     },
     "metadata": {},
     "output_type": "display_data"
    }
   ],
   "source": [
    "plt.figure(figsize=(24,6))\n",
    "\n",
    "plt.subplot(1,2,1)\n",
    "sns.distplot(new_df[new_df['is_duplicate'] == 0]['cwc_min'],label='non duplicate',kde=False,bins=30)\n",
    "sns.distplot(new_df[new_df['is_duplicate'] == 1]['cwc_min'],label='duplicate',kde=False,bins=30)\n",
    "plt.legend()\n",
    "plt.ylabel('counts')\n",
    "plt.title('cwc_min')\n",
    "\n",
    "plt.subplot(1,2,2)\n",
    "sns.distplot(new_df[new_df['is_duplicate'] == 0]['cwc_max'],label='non duplicate',kde=False,bins=30)\n",
    "sns.distplot(new_df[new_df['is_duplicate'] == 1]['cwc_max'],label='duplicate',kde=False,bins=30)\n",
    "plt.legend()\n",
    "plt.ylabel('counts')\n",
    "plt.title('cwc_max')"
   ]
  },
  {
   "cell_type": "code",
   "execution_count": 116,
   "id": "c8d0d6c4",
   "metadata": {},
   "outputs": [
    {
     "name": "stderr",
     "output_type": "stream",
     "text": [
      "C:\\Users\\Neon4\\AppData\\Local\\Temp\\ipykernel_10840\\1071049302.py:4: UserWarning: \n",
      "\n",
      "`distplot` is a deprecated function and will be removed in seaborn v0.14.0.\n",
      "\n",
      "Please adapt your code to use either `displot` (a figure-level function with\n",
      "similar flexibility) or `histplot` (an axes-level function for histograms).\n",
      "\n",
      "For a guide to updating your code to use the new functions, please see\n",
      "https://gist.github.com/mwaskom/de44147ed2974457ad6372750bbe5751\n",
      "\n",
      "  sns.distplot(new_df[new_df['is_duplicate'] == 0]['csc_min'],label='non duplicate',kde=False,bins=10)\n",
      "C:\\Users\\Neon4\\AppData\\Local\\Temp\\ipykernel_10840\\1071049302.py:5: UserWarning: \n",
      "\n",
      "`distplot` is a deprecated function and will be removed in seaborn v0.14.0.\n",
      "\n",
      "Please adapt your code to use either `displot` (a figure-level function with\n",
      "similar flexibility) or `histplot` (an axes-level function for histograms).\n",
      "\n",
      "For a guide to updating your code to use the new functions, please see\n",
      "https://gist.github.com/mwaskom/de44147ed2974457ad6372750bbe5751\n",
      "\n",
      "  sns.distplot(new_df[new_df['is_duplicate'] == 1]['csc_min'],label='duplicate',kde=False,bins=10)\n",
      "C:\\Users\\Neon4\\AppData\\Local\\Temp\\ipykernel_10840\\1071049302.py:11: UserWarning: \n",
      "\n",
      "`distplot` is a deprecated function and will be removed in seaborn v0.14.0.\n",
      "\n",
      "Please adapt your code to use either `displot` (a figure-level function with\n",
      "similar flexibility) or `histplot` (an axes-level function for histograms).\n",
      "\n",
      "For a guide to updating your code to use the new functions, please see\n",
      "https://gist.github.com/mwaskom/de44147ed2974457ad6372750bbe5751\n",
      "\n",
      "  sns.distplot(new_df[new_df['is_duplicate'] == 0]['csc_max'],label='non duplicate',kde=False,bins=10)\n",
      "C:\\Users\\Neon4\\AppData\\Local\\Temp\\ipykernel_10840\\1071049302.py:12: UserWarning: \n",
      "\n",
      "`distplot` is a deprecated function and will be removed in seaborn v0.14.0.\n",
      "\n",
      "Please adapt your code to use either `displot` (a figure-level function with\n",
      "similar flexibility) or `histplot` (an axes-level function for histograms).\n",
      "\n",
      "For a guide to updating your code to use the new functions, please see\n",
      "https://gist.github.com/mwaskom/de44147ed2974457ad6372750bbe5751\n",
      "\n",
      "  sns.distplot(new_df[new_df['is_duplicate'] == 1]['csc_max'],label='duplicate',kde=False,bins=10)\n"
     ]
    },
    {
     "data": {
      "text/plain": [
       "Text(0.5, 1.0, 'csc_max')"
      ]
     },
     "execution_count": 116,
     "metadata": {},
     "output_type": "execute_result"
    },
    {
     "data": {
      "image/png": "[encoded data removed]",
      "text/plain": [
       "<Figure size 2400x600 with 2 Axes>"
      ]
     },
     "metadata": {},
     "output_type": "display_data"
    }
   ],
   "source": [
    "plt.figure(figsize=(24,6))\n",
    "\n",
    "plt.subplot(1,2,1)\n",
    "sns.distplot(new_df[new_df['is_duplicate'] == 0]['csc_min'],label='non duplicate',kde=False,bins=10)\n",
    "sns.distplot(new_df[new_df['is_duplicate'] == 1]['csc_min'],label='duplicate',kde=False,bins=10)\n",
    "plt.legend()\n",
    "plt.ylabel('counts')\n",
    "plt.title('csc_min')\n",
    "\n",
    "plt.subplot(1,2,2)\n",
    "sns.distplot(new_df[new_df['is_duplicate'] == 0]['csc_max'],label='non duplicate',kde=False,bins=10)\n",
    "sns.distplot(new_df[new_df['is_duplicate'] == 1]['csc_max'],label='duplicate',kde=False,bins=10)\n",
    "plt.legend()\n",
    "plt.ylabel('counts')\n",
    "plt.title('csc_max')"
   ]
  },
  {
   "cell_type": "code",
   "execution_count": 117,
   "id": "b1300eea",
   "metadata": {},
   "outputs": [
    {
     "name": "stderr",
     "output_type": "stream",
     "text": [
      "C:\\Users\\Neon4\\AppData\\Local\\Temp\\ipykernel_10840\\1416298952.py:4: UserWarning: \n",
      "\n",
      "`distplot` is a deprecated function and will be removed in seaborn v0.14.0.\n",
      "\n",
      "Please adapt your code to use either `displot` (a figure-level function with\n",
      "similar flexibility) or `histplot` (an axes-level function for histograms).\n",
      "\n",
      "For a guide to updating your code to use the new functions, please see\n",
      "https://gist.github.com/mwaskom/de44147ed2974457ad6372750bbe5751\n",
      "\n",
      "  sns.distplot(new_df[new_df['is_duplicate'] == 0]['ctc_min'],label='non duplicate',kde=False,bins=10)\n",
      "C:\\Users\\Neon4\\AppData\\Local\\Temp\\ipykernel_10840\\1416298952.py:5: UserWarning: \n",
      "\n",
      "`distplot` is a deprecated function and will be removed in seaborn v0.14.0.\n",
      "\n",
      "Please adapt your code to use either `displot` (a figure-level function with\n",
      "similar flexibility) or `histplot` (an axes-level function for histograms).\n",
      "\n",
      "For a guide to updating your code to use the new functions, please see\n",
      "https://gist.github.com/mwaskom/de44147ed2974457ad6372750bbe5751\n",
      "\n",
      "  sns.distplot(new_df[new_df['is_duplicate'] == 1]['ctc_min'],label='duplicate',kde=False,bins=10)\n",
      "C:\\Users\\Neon4\\AppData\\Local\\Temp\\ipykernel_10840\\1416298952.py:11: UserWarning: \n",
      "\n",
      "`distplot` is a deprecated function and will be removed in seaborn v0.14.0.\n",
      "\n",
      "Please adapt your code to use either `displot` (a figure-level function with\n",
      "similar flexibility) or `histplot` (an axes-level function for histograms).\n",
      "\n",
      "For a guide to updating your code to use the new functions, please see\n",
      "https://gist.github.com/mwaskom/de44147ed2974457ad6372750bbe5751\n",
      "\n",
      "  sns.distplot(new_df[new_df['is_duplicate'] == 0]['ctc_max'],label='non duplicate',kde=False,bins=10)\n",
      "C:\\Users\\Neon4\\AppData\\Local\\Temp\\ipykernel_10840\\1416298952.py:12: UserWarning: \n",
      "\n",
      "`distplot` is a deprecated function and will be removed in seaborn v0.14.0.\n",
      "\n",
      "Please adapt your code to use either `displot` (a figure-level function with\n",
      "similar flexibility) or `histplot` (an axes-level function for histograms).\n",
      "\n",
      "For a guide to updating your code to use the new functions, please see\n",
      "https://gist.github.com/mwaskom/de44147ed2974457ad6372750bbe5751\n",
      "\n",
      "  sns.distplot(new_df[new_df['is_duplicate'] == 1]['ctc_max'],label='duplicate',kde=False,bins=10)\n"
     ]
    },
    {
     "data": {
      "text/plain": [
       "Text(0.5, 1.0, 'ctc_max')"
      ]
     },
     "execution_count": 117,
     "metadata": {},
     "output_type": "execute_result"
    },
    {
     "data": {
      "image/png": "[encoded data removed]",
      "text/plain": [
       "<Figure size 2400x600 with 2 Axes>"
      ]
     },
     "metadata": {},
     "output_type": "display_data"
    }
   ],
   "source": [
    "plt.figure(figsize=(24,6))\n",
    "\n",
    "plt.subplot(1,2,1)\n",
    "sns.distplot(new_df[new_df['is_duplicate'] == 0]['ctc_min'],label='non duplicate',kde=False,bins=10)\n",
    "sns.distplot(new_df[new_df['is_duplicate'] == 1]['ctc_min'],label='duplicate',kde=False,bins=10)\n",
    "plt.legend()\n",
    "plt.ylabel('counts')\n",
    "plt.title('ctc_min')\n",
    "\n",
    "plt.subplot(1,2,2)\n",
    "sns.distplot(new_df[new_df['is_duplicate'] == 0]['ctc_max'],label='non duplicate',kde=False,bins=10)\n",
    "sns.distplot(new_df[new_df['is_duplicate'] == 1]['ctc_max'],label='duplicate',kde=False,bins=10)\n",
    "plt.legend()\n",
    "plt.ylabel('counts')\n",
    "plt.title('ctc_max')"
   ]
  },
  {
   "cell_type": "code",
   "execution_count": 118,
   "id": "221ae8ca",
   "metadata": {},
   "outputs": [
    {
     "name": "stderr",
     "output_type": "stream",
     "text": [
      "C:\\Users\\Neon4\\AppData\\Local\\Temp\\ipykernel_10840\\3264017665.py:4: UserWarning: \n",
      "\n",
      "`distplot` is a deprecated function and will be removed in seaborn v0.14.0.\n",
      "\n",
      "Please adapt your code to use either `displot` (a figure-level function with\n",
      "similar flexibility) or `histplot` (an axes-level function for histograms).\n",
      "\n",
      "For a guide to updating your code to use the new functions, please see\n",
      "https://gist.github.com/mwaskom/de44147ed2974457ad6372750bbe5751\n",
      "\n",
      "  sns.distplot(new_df[new_df['is_duplicate'] == 0]['first_w_eq'],label='non duplicate',kde=False,bins=2)\n",
      "C:\\Users\\Neon4\\AppData\\Local\\Temp\\ipykernel_10840\\3264017665.py:5: UserWarning: \n",
      "\n",
      "`distplot` is a deprecated function and will be removed in seaborn v0.14.0.\n",
      "\n",
      "Please adapt your code to use either `displot` (a figure-level function with\n",
      "similar flexibility) or `histplot` (an axes-level function for histograms).\n",
      "\n",
      "For a guide to updating your code to use the new functions, please see\n",
      "https://gist.github.com/mwaskom/de44147ed2974457ad6372750bbe5751\n",
      "\n",
      "  sns.distplot(new_df[new_df['is_duplicate'] == 1]['first_w_eq'],label='duplicate',kde=False,bins=2)\n",
      "C:\\Users\\Neon4\\AppData\\Local\\Temp\\ipykernel_10840\\3264017665.py:11: UserWarning: \n",
      "\n",
      "`distplot` is a deprecated function and will be removed in seaborn v0.14.0.\n",
      "\n",
      "Please adapt your code to use either `displot` (a figure-level function with\n",
      "similar flexibility) or `histplot` (an axes-level function for histograms).\n",
      "\n",
      "For a guide to updating your code to use the new functions, please see\n",
      "https://gist.github.com/mwaskom/de44147ed2974457ad6372750bbe5751\n",
      "\n",
      "  sns.distplot(new_df[new_df['is_duplicate'] == 0]['last_w_eq'],label='non duplicate',kde=False,bins=2)\n",
      "C:\\Users\\Neon4\\AppData\\Local\\Temp\\ipykernel_10840\\3264017665.py:12: UserWarning: \n",
      "\n",
      "`distplot` is a deprecated function and will be removed in seaborn v0.14.0.\n",
      "\n",
      "Please adapt your code to use either `displot` (a figure-level function with\n",
      "similar flexibility) or `histplot` (an axes-level function for histograms).\n",
      "\n",
      "For a guide to updating your code to use the new functions, please see\n",
      "https://gist.github.com/mwaskom/de44147ed2974457ad6372750bbe5751\n",
      "\n",
      "  sns.distplot(new_df[new_df['is_duplicate'] == 1]['last_w_eq'],label='duplicate',kde=False,bins=2)\n"
     ]
    },
    {
     "data": {
      "text/plain": [
       "Text(0.5, 1.0, 'ctc_max')"
      ]
     },
     "execution_count": 118,
     "metadata": {},
     "output_type": "execute_result"
    },
    {
     "data": {
      "image/png": "[encoded data removed]",
      "text/plain": [
       "<Figure size 2400x600 with 2 Axes>"
      ]
     },
     "metadata": {},
     "output_type": "display_data"
    }
   ],
   "source": [
    "plt.figure(figsize=(24,6))\n",
    "\n",
    "plt.subplot(1,2,1)\n",
    "sns.distplot(new_df[new_df['is_duplicate'] == 0]['first_w_eq'],label='non duplicate',kde=False,bins=2)\n",
    "sns.distplot(new_df[new_df['is_duplicate'] == 1]['first_w_eq'],label='duplicate',kde=False,bins=2)\n",
    "plt.legend()\n",
    "plt.ylabel('first_w_eq')\n",
    "plt.title('ctc_min')\n",
    "\n",
    "plt.subplot(1,2,2)\n",
    "sns.distplot(new_df[new_df['is_duplicate'] == 0]['last_w_eq'],label='non duplicate',kde=False,bins=2)\n",
    "sns.distplot(new_df[new_df['is_duplicate'] == 1]['last_w_eq'],label='duplicate',kde=False,bins=2)\n",
    "plt.legend()\n",
    "plt.ylabel('last_w_eq')\n",
    "plt.title('ctc_max')"
   ]
  },
  {
   "cell_type": "code",
   "execution_count": 119,
   "id": "8973c3ed",
   "metadata": {
    "scrolled": true
   },
   "outputs": [
    {
     "name": "stderr",
     "output_type": "stream",
     "text": [
      "C:\\Users\\Neon4\\AppData\\Local\\Temp\\ipykernel_10840\\739589202.py:4: UserWarning: \n",
      "\n",
      "`distplot` is a deprecated function and will be removed in seaborn v0.14.0.\n",
      "\n",
      "Please adapt your code to use either `displot` (a figure-level function with\n",
      "similar flexibility) or `histplot` (an axes-level function for histograms).\n",
      "\n",
      "For a guide to updating your code to use the new functions, please see\n",
      "https://gist.github.com/mwaskom/de44147ed2974457ad6372750bbe5751\n",
      "\n",
      "  sns.distplot(new_df[new_df['is_duplicate'] == 0]['ctc'],label='non duplicate',kde=False,bins=2)\n",
      "C:\\Users\\Neon4\\AppData\\Local\\Temp\\ipykernel_10840\\739589202.py:5: UserWarning: \n",
      "\n",
      "`distplot` is a deprecated function and will be removed in seaborn v0.14.0.\n",
      "\n",
      "Please adapt your code to use either `displot` (a figure-level function with\n",
      "similar flexibility) or `histplot` (an axes-level function for histograms).\n",
      "\n",
      "For a guide to updating your code to use the new functions, please see\n",
      "https://gist.github.com/mwaskom/de44147ed2974457ad6372750bbe5751\n",
      "\n",
      "  sns.distplot(new_df[new_df['is_duplicate'] == 1]['ctc'],label='duplicate',kde=False,bins=2)\n",
      "C:\\Users\\Neon4\\AppData\\Local\\Temp\\ipykernel_10840\\739589202.py:11: UserWarning: \n",
      "\n",
      "`distplot` is a deprecated function and will be removed in seaborn v0.14.0.\n",
      "\n",
      "Please adapt your code to use either `displot` (a figure-level function with\n",
      "similar flexibility) or `histplot` (an axes-level function for histograms).\n",
      "\n",
      "For a guide to updating your code to use the new functions, please see\n",
      "https://gist.github.com/mwaskom/de44147ed2974457ad6372750bbe5751\n",
      "\n",
      "  sns.distplot(new_df[new_df['is_duplicate'] == 0]['csc'],label='non duplicate',kde=False,bins=2)\n",
      "C:\\Users\\Neon4\\AppData\\Local\\Temp\\ipykernel_10840\\739589202.py:12: UserWarning: \n",
      "\n",
      "`distplot` is a deprecated function and will be removed in seaborn v0.14.0.\n",
      "\n",
      "Please adapt your code to use either `displot` (a figure-level function with\n",
      "similar flexibility) or `histplot` (an axes-level function for histograms).\n",
      "\n",
      "For a guide to updating your code to use the new functions, please see\n",
      "https://gist.github.com/mwaskom/de44147ed2974457ad6372750bbe5751\n",
      "\n",
      "  sns.distplot(new_df[new_df['is_duplicate'] == 1]['csc'],label='duplicate',kde=False,bins=2)\n"
     ]
    },
    {
     "data": {
      "text/plain": [
       "Text(0.5, 1.0, 'csc')"
      ]
     },
     "execution_count": 119,
     "metadata": {},
     "output_type": "execute_result"
    },
    {
     "data": {
      "image/png": "[encoded data removed]",
      "text/plain": [
       "<Figure size 2400x600 with 2 Axes>"
      ]
     },
     "metadata": {},
     "output_type": "display_data"
    }
   ],
   "source": [
    "plt.figure(figsize=(24,6))\n",
    "\n",
    "plt.subplot(1,2,1)\n",
    "sns.distplot(new_df[new_df['is_duplicate'] == 0]['ctc'],label='non duplicate',kde=False,bins=2)\n",
    "sns.distplot(new_df[new_df['is_duplicate'] == 1]['ctc'],label='duplicate',kde=False,bins=2)\n",
    "plt.legend()\n",
    "plt.ylabel('counts')\n",
    "plt.title('ctc')\n",
    "\n",
    "plt.subplot(1,2,2)\n",
    "sns.distplot(new_df[new_df['is_duplicate'] == 0]['csc'],label='non duplicate',kde=False,bins=2)\n",
    "sns.distplot(new_df[new_df['is_duplicate'] == 1]['csc'],label='duplicate',kde=False,bins=2)\n",
    "plt.legend()\n",
    "plt.ylabel('counts')\n",
    "plt.title('csc')"
   ]
  },
  {
   "cell_type": "markdown",
   "id": "edc14f9d",
   "metadata": {},
   "source": [
    "# Traning models"
   ]
  },
  {
   "cell_type": "code",
   "execution_count": 121,
   "id": "8112e399",
   "metadata": {
    "scrolled": false
   },
   "outputs": [
    {
     "data": {
      "text/html": [
       "<div>\n",
       "<style scoped>\n",
       "    .dataframe tbody tr th:only-of-type {\n",
       "        vertical-align: middle;\n",
       "    }\n",
       "\n",
       "    .dataframe tbody tr th {\n",
       "        vertical-align: top;\n",
       "    }\n",
       "\n",
       "    .dataframe thead th {\n",
       "        text-align: right;\n",
       "    }\n",
       "</style>\n",
       "<table border=\"1\" class=\"dataframe\">\n",
       "  <thead>\n",
       "    <tr style=\"text-align: right;\">\n",
       "      <th></th>\n",
       "      <th>question1</th>\n",
       "      <th>question2</th>\n",
       "      <th>is_duplicate</th>\n",
       "      <th>q1_len</th>\n",
       "      <th>q2_len</th>\n",
       "      <th>q1_num_words</th>\n",
       "      <th>q2_num_words</th>\n",
       "      <th>word_total</th>\n",
       "      <th>word_common</th>\n",
       "      <th>word_share</th>\n",
       "      <th>...</th>\n",
       "      <th>csc</th>\n",
       "      <th>cwc_min</th>\n",
       "      <th>cwc_max</th>\n",
       "      <th>ctc_min</th>\n",
       "      <th>ctc_max</th>\n",
       "      <th>csc_min</th>\n",
       "      <th>csc_max</th>\n",
       "      <th>first_w_eq</th>\n",
       "      <th>last_w_eq</th>\n",
       "      <th>avg_words</th>\n",
       "    </tr>\n",
       "  </thead>\n",
       "  <tbody>\n",
       "    <tr>\n",
       "      <th>1</th>\n",
       "      <td>what is the stori of kohinoor koh i noor diamond</td>\n",
       "      <td>what would happen if the indian govern stole t...</td>\n",
       "      <td>0</td>\n",
       "      <td>48</td>\n",
       "      <td>81</td>\n",
       "      <td>10</td>\n",
       "      <td>15</td>\n",
       "      <td>24</td>\n",
       "      <td>7</td>\n",
       "      <td>0.29</td>\n",
       "      <td>...</td>\n",
       "      <td>3</td>\n",
       "      <td>0.700</td>\n",
       "      <td>0.467</td>\n",
       "      <td>0.800</td>\n",
       "      <td>0.400</td>\n",
       "      <td>0.600</td>\n",
       "      <td>0.600</td>\n",
       "      <td>1</td>\n",
       "      <td>0</td>\n",
       "      <td>12.0</td>\n",
       "    </tr>\n",
       "    <tr>\n",
       "      <th>2</th>\n",
       "      <td>how can i increa the speed of my internet conn...</td>\n",
       "      <td>how can internet speed be increas by hack thro...</td>\n",
       "      <td>0</td>\n",
       "      <td>65</td>\n",
       "      <td>52</td>\n",
       "      <td>14</td>\n",
       "      <td>10</td>\n",
       "      <td>24</td>\n",
       "      <td>4</td>\n",
       "      <td>0.17</td>\n",
       "      <td>...</td>\n",
       "      <td>2</td>\n",
       "      <td>0.400</td>\n",
       "      <td>0.286</td>\n",
       "      <td>0.400</td>\n",
       "      <td>0.333</td>\n",
       "      <td>0.400</td>\n",
       "      <td>0.250</td>\n",
       "      <td>1</td>\n",
       "      <td>0</td>\n",
       "      <td>12.0</td>\n",
       "    </tr>\n",
       "    <tr>\n",
       "      <th>3</th>\n",
       "      <td>whi am i mental veri lone how can i solv it</td>\n",
       "      <td>find the remaind when 23 24 math is divid by 2...</td>\n",
       "      <td>0</td>\n",
       "      <td>43</td>\n",
       "      <td>50</td>\n",
       "      <td>11</td>\n",
       "      <td>12</td>\n",
       "      <td>20</td>\n",
       "      <td>0</td>\n",
       "      <td>0.00</td>\n",
       "      <td>...</td>\n",
       "      <td>0</td>\n",
       "      <td>0.000</td>\n",
       "      <td>0.000</td>\n",
       "      <td>0.000</td>\n",
       "      <td>0.000</td>\n",
       "      <td>0.000</td>\n",
       "      <td>0.000</td>\n",
       "      <td>0</td>\n",
       "      <td>0</td>\n",
       "      <td>10.0</td>\n",
       "    </tr>\n",
       "    <tr>\n",
       "      <th>4</th>\n",
       "      <td>which one dissolv in water quikli sugar salt m...</td>\n",
       "      <td>which fish would surviv in salt water</td>\n",
       "      <td>0</td>\n",
       "      <td>70</td>\n",
       "      <td>37</td>\n",
       "      <td>13</td>\n",
       "      <td>7</td>\n",
       "      <td>20</td>\n",
       "      <td>4</td>\n",
       "      <td>0.20</td>\n",
       "      <td>...</td>\n",
       "      <td>2</td>\n",
       "      <td>0.571</td>\n",
       "      <td>0.308</td>\n",
       "      <td>0.400</td>\n",
       "      <td>0.200</td>\n",
       "      <td>1.000</td>\n",
       "      <td>0.667</td>\n",
       "      <td>1</td>\n",
       "      <td>0</td>\n",
       "      <td>10.0</td>\n",
       "    </tr>\n",
       "    <tr>\n",
       "      <th>6</th>\n",
       "      <td>should i buy tiago</td>\n",
       "      <td>what keep childern activ and far from phone an...</td>\n",
       "      <td>0</td>\n",
       "      <td>18</td>\n",
       "      <td>58</td>\n",
       "      <td>4</td>\n",
       "      <td>11</td>\n",
       "      <td>14</td>\n",
       "      <td>0</td>\n",
       "      <td>0.00</td>\n",
       "      <td>...</td>\n",
       "      <td>0</td>\n",
       "      <td>0.000</td>\n",
       "      <td>0.000</td>\n",
       "      <td>0.000</td>\n",
       "      <td>0.000</td>\n",
       "      <td>0.000</td>\n",
       "      <td>0.000</td>\n",
       "      <td>0</td>\n",
       "      <td>0</td>\n",
       "      <td>7.0</td>\n",
       "    </tr>\n",
       "    <tr>\n",
       "      <th>...</th>\n",
       "      <td>...</td>\n",
       "      <td>...</td>\n",
       "      <td>...</td>\n",
       "      <td>...</td>\n",
       "      <td>...</td>\n",
       "      <td>...</td>\n",
       "      <td>...</td>\n",
       "      <td>...</td>\n",
       "      <td>...</td>\n",
       "      <td>...</td>\n",
       "      <td>...</td>\n",
       "      <td>...</td>\n",
       "      <td>...</td>\n",
       "      <td>...</td>\n",
       "      <td>...</td>\n",
       "      <td>...</td>\n",
       "      <td>...</td>\n",
       "      <td>...</td>\n",
       "      <td>...</td>\n",
       "      <td>...</td>\n",
       "      <td>...</td>\n",
       "    </tr>\n",
       "    <tr>\n",
       "      <th>404280</th>\n",
       "      <td>what are some outfit idea to wear to a frat parti</td>\n",
       "      <td>what are some outfit idea wear to a frat theme...</td>\n",
       "      <td>1</td>\n",
       "      <td>49</td>\n",
       "      <td>52</td>\n",
       "      <td>11</td>\n",
       "      <td>11</td>\n",
       "      <td>21</td>\n",
       "      <td>10</td>\n",
       "      <td>0.48</td>\n",
       "      <td>...</td>\n",
       "      <td>5</td>\n",
       "      <td>0.909</td>\n",
       "      <td>0.909</td>\n",
       "      <td>1.000</td>\n",
       "      <td>0.833</td>\n",
       "      <td>1.000</td>\n",
       "      <td>0.833</td>\n",
       "      <td>1</td>\n",
       "      <td>1</td>\n",
       "      <td>10.5</td>\n",
       "    </tr>\n",
       "    <tr>\n",
       "      <th>404281</th>\n",
       "      <td>whi is manaphi childish in pokémon ranger and ...</td>\n",
       "      <td>whi is manaphi annoy in pokemon ranger and the...</td>\n",
       "      <td>1</td>\n",
       "      <td>66</td>\n",
       "      <td>63</td>\n",
       "      <td>13</td>\n",
       "      <td>13</td>\n",
       "      <td>24</td>\n",
       "      <td>10</td>\n",
       "      <td>0.42</td>\n",
       "      <td>...</td>\n",
       "      <td>5</td>\n",
       "      <td>0.769</td>\n",
       "      <td>0.769</td>\n",
       "      <td>0.714</td>\n",
       "      <td>0.714</td>\n",
       "      <td>0.833</td>\n",
       "      <td>0.833</td>\n",
       "      <td>1</td>\n",
       "      <td>1</td>\n",
       "      <td>12.0</td>\n",
       "    </tr>\n",
       "    <tr>\n",
       "      <th>404282</th>\n",
       "      <td>how doe a long distanc relationship work</td>\n",
       "      <td>how are long distanc relationship maintain</td>\n",
       "      <td>1</td>\n",
       "      <td>40</td>\n",
       "      <td>42</td>\n",
       "      <td>7</td>\n",
       "      <td>6</td>\n",
       "      <td>13</td>\n",
       "      <td>4</td>\n",
       "      <td>0.31</td>\n",
       "      <td>...</td>\n",
       "      <td>1</td>\n",
       "      <td>0.667</td>\n",
       "      <td>0.571</td>\n",
       "      <td>0.750</td>\n",
       "      <td>0.600</td>\n",
       "      <td>0.500</td>\n",
       "      <td>0.500</td>\n",
       "      <td>1</td>\n",
       "      <td>0</td>\n",
       "      <td>6.5</td>\n",
       "    </tr>\n",
       "    <tr>\n",
       "      <th>404284</th>\n",
       "      <td>what doe jainism say about homosexu</td>\n",
       "      <td>what doe jainism say about gay and homosexu</td>\n",
       "      <td>1</td>\n",
       "      <td>35</td>\n",
       "      <td>43</td>\n",
       "      <td>6</td>\n",
       "      <td>8</td>\n",
       "      <td>14</td>\n",
       "      <td>6</td>\n",
       "      <td>0.43</td>\n",
       "      <td>...</td>\n",
       "      <td>2</td>\n",
       "      <td>1.000</td>\n",
       "      <td>0.750</td>\n",
       "      <td>1.000</td>\n",
       "      <td>0.800</td>\n",
       "      <td>1.000</td>\n",
       "      <td>0.667</td>\n",
       "      <td>1</td>\n",
       "      <td>1</td>\n",
       "      <td>7.0</td>\n",
       "    </tr>\n",
       "    <tr>\n",
       "      <th>404286</th>\n",
       "      <td>do you believ there is life after death</td>\n",
       "      <td>is it true that there is life after death</td>\n",
       "      <td>1</td>\n",
       "      <td>39</td>\n",
       "      <td>41</td>\n",
       "      <td>8</td>\n",
       "      <td>9</td>\n",
       "      <td>16</td>\n",
       "      <td>5</td>\n",
       "      <td>0.31</td>\n",
       "      <td>...</td>\n",
       "      <td>3</td>\n",
       "      <td>0.625</td>\n",
       "      <td>0.556</td>\n",
       "      <td>0.667</td>\n",
       "      <td>0.667</td>\n",
       "      <td>0.600</td>\n",
       "      <td>0.500</td>\n",
       "      <td>0</td>\n",
       "      <td>1</td>\n",
       "      <td>8.0</td>\n",
       "    </tr>\n",
       "  </tbody>\n",
       "</table>\n",
       "<p>344204 rows × 25 columns</p>\n",
       "</div>"
      ],
      "text/plain": [
       "                                                question1  \\\n",
       "1        what is the stori of kohinoor koh i noor diamond   \n",
       "2       how can i increa the speed of my internet conn...   \n",
       "3             whi am i mental veri lone how can i solv it   \n",
       "4       which one dissolv in water quikli sugar salt m...   \n",
       "6                                      should i buy tiago   \n",
       "...                                                   ...   \n",
       "404280  what are some outfit idea to wear to a frat parti   \n",
       "404281  whi is manaphi childish in pokémon ranger and ...   \n",
       "404282           how doe a long distanc relationship work   \n",
       "404284                what doe jainism say about homosexu   \n",
       "404286            do you believ there is life after death   \n",
       "\n",
       "                                                question2  is_duplicate  \\\n",
       "1       what would happen if the indian govern stole t...             0   \n",
       "2       how can internet speed be increas by hack thro...             0   \n",
       "3       find the remaind when 23 24 math is divid by 2...             0   \n",
       "4                   which fish would surviv in salt water             0   \n",
       "6       what keep childern activ and far from phone an...             0   \n",
       "...                                                   ...           ...   \n",
       "404280  what are some outfit idea wear to a frat theme...             1   \n",
       "404281  whi is manaphi annoy in pokemon ranger and the...             1   \n",
       "404282         how are long distanc relationship maintain             1   \n",
       "404284        what doe jainism say about gay and homosexu             1   \n",
       "404286          is it true that there is life after death             1   \n",
       "\n",
       "        q1_len  q2_len  q1_num_words  q2_num_words  word_total  word_common  \\\n",
       "1           48      81            10            15          24            7   \n",
       "2           65      52            14            10          24            4   \n",
       "3           43      50            11            12          20            0   \n",
       "4           70      37            13             7          20            4   \n",
       "6           18      58             4            11          14            0   \n",
       "...        ...     ...           ...           ...         ...          ...   \n",
       "404280      49      52            11            11          21           10   \n",
       "404281      66      63            13            13          24           10   \n",
       "404282      40      42             7             6          13            4   \n",
       "404284      35      43             6             8          14            6   \n",
       "404286      39      41             8             9          16            5   \n",
       "\n",
       "        word_share  ...  csc  cwc_min  cwc_max  ctc_min  ctc_max  csc_min  \\\n",
       "1             0.29  ...    3    0.700    0.467    0.800    0.400    0.600   \n",
       "2             0.17  ...    2    0.400    0.286    0.400    0.333    0.400   \n",
       "3             0.00  ...    0    0.000    0.000    0.000    0.000    0.000   \n",
       "4             0.20  ...    2    0.571    0.308    0.400    0.200    1.000   \n",
       "6             0.00  ...    0    0.000    0.000    0.000    0.000    0.000   \n",
       "...            ...  ...  ...      ...      ...      ...      ...      ...   \n",
       "404280        0.48  ...    5    0.909    0.909    1.000    0.833    1.000   \n",
       "404281        0.42  ...    5    0.769    0.769    0.714    0.714    0.833   \n",
       "404282        0.31  ...    1    0.667    0.571    0.750    0.600    0.500   \n",
       "404284        0.43  ...    2    1.000    0.750    1.000    0.800    1.000   \n",
       "404286        0.31  ...    3    0.625    0.556    0.667    0.667    0.600   \n",
       "\n",
       "        csc_max  first_w_eq  last_w_eq  avg_words  \n",
       "1         0.600           1          0       12.0  \n",
       "2         0.250           1          0       12.0  \n",
       "3         0.000           0          0       10.0  \n",
       "4         0.667           1          0       10.0  \n",
       "6         0.000           0          0        7.0  \n",
       "...         ...         ...        ...        ...  \n",
       "404280    0.833           1          1       10.5  \n",
       "404281    0.833           1          1       12.0  \n",
       "404282    0.500           1          0        6.5  \n",
       "404284    0.667           1          1        7.0  \n",
       "404286    0.500           0          1        8.0  \n",
       "\n",
       "[344204 rows x 25 columns]"
      ]
     },
     "execution_count": 121,
     "metadata": {},
     "output_type": "execute_result"
    }
   ],
   "source": [
    "new_df"
   ]
  },
  {
   "cell_type": "code",
   "execution_count": 126,
   "id": "0fb04fcc",
   "metadata": {},
   "outputs": [],
   "source": [
    "new_df.to_csv(r'C:\\Users\\Neon4\\Machine learning code\\project code\\Qura question pair project\\data\\df.csv',index=False)"
   ]
  },
  {
   "cell_type": "code",
   "execution_count": null,
   "id": "b17d879c",
   "metadata": {},
   "outputs": [],
   "source": []
  },
  {
   "cell_type": "code",
   "execution_count": null,
   "id": "b6cb497b",
   "metadata": {},
   "outputs": [],
   "source": []
  },
  {
   "cell_type": "code",
   "execution_count": null,
   "id": "df8b33db",
   "metadata": {},
   "outputs": [],
   "source": []
  },
  {
   "cell_type": "code",
   "execution_count": null,
   "id": "24a838b8",
   "metadata": {},
   "outputs": [],
   "source": []
  },
  {
   "cell_type": "code",
   "execution_count": null,
   "id": "2dd026f8",
   "metadata": {},
   "outputs": [],
   "source": []
  }
 ],
 "metadata": {
  "kernelspec": {
   "display_name": "Python 3 (ipykernel)",
   "language": "python",
   "name": "python3"
  },
  "language_info": {
   "codemirror_mode": {
    "name": "ipython",
    "version": 3
   },
   "file_extension": ".py",
   "mimetype": "text/x-python",
   "name": "python",
   "nbconvert_exporter": "python",
   "pygments_lexer": "ipython3",
   "version": "3.11.5"
  }
 },
 "nbformat": 4,
 "nbformat_minor": 5
}
