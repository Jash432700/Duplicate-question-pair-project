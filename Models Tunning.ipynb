{
 "cells": [
  {
   "cell_type": "code",
   "execution_count": 1,
   "id": "81d1be4b",
   "metadata": {},
   "outputs": [],
   "source": [
    "import pandas as pd \n",
    "import numpy as np \n",
    "import matplotlib.pyplot as plt\n",
    "import seaborn as sns\n"
   ]
  },
  {
   "cell_type": "code",
   "execution_count": 2,
   "id": "2415f6c8",
   "metadata": {},
   "outputs": [],
   "source": [
    "df=pd.read_csv(r\"C:\\Users\\Neon4\\Machine learning code\\project code\\Qura question pair project\\data\\df.csv\")"
   ]
  },
  {
   "cell_type": "code",
   "execution_count": 3,
   "id": "8045a811",
   "metadata": {},
   "outputs": [
    {
     "data": {
      "text/html": [
       "<div>\n",
       "<style scoped>\n",
       "    .dataframe tbody tr th:only-of-type {\n",
       "        vertical-align: middle;\n",
       "    }\n",
       "\n",
       "    .dataframe tbody tr th {\n",
       "        vertical-align: top;\n",
       "    }\n",
       "\n",
       "    .dataframe thead th {\n",
       "        text-align: right;\n",
       "    }\n",
       "</style>\n",
       "<table border=\"1\" class=\"dataframe\">\n",
       "  <thead>\n",
       "    <tr style=\"text-align: right;\">\n",
       "      <th></th>\n",
       "      <th>question1</th>\n",
       "      <th>question2</th>\n",
       "      <th>is_duplicate</th>\n",
       "      <th>q1_len</th>\n",
       "      <th>q2_len</th>\n",
       "      <th>q1_num_words</th>\n",
       "      <th>q2_num_words</th>\n",
       "      <th>word_total</th>\n",
       "      <th>word_common</th>\n",
       "      <th>word_share</th>\n",
       "      <th>...</th>\n",
       "      <th>csc</th>\n",
       "      <th>cwc_min</th>\n",
       "      <th>cwc_max</th>\n",
       "      <th>ctc_min</th>\n",
       "      <th>ctc_max</th>\n",
       "      <th>csc_min</th>\n",
       "      <th>csc_max</th>\n",
       "      <th>first_w_eq</th>\n",
       "      <th>last_w_eq</th>\n",
       "      <th>avg_words</th>\n",
       "    </tr>\n",
       "  </thead>\n",
       "  <tbody>\n",
       "    <tr>\n",
       "      <th>0</th>\n",
       "      <td>what is the stori of kohinoor koh i noor diamond</td>\n",
       "      <td>what would happen if the indian govern stole t...</td>\n",
       "      <td>0</td>\n",
       "      <td>48</td>\n",
       "      <td>81</td>\n",
       "      <td>10</td>\n",
       "      <td>15</td>\n",
       "      <td>24</td>\n",
       "      <td>7</td>\n",
       "      <td>0.29</td>\n",
       "      <td>...</td>\n",
       "      <td>3</td>\n",
       "      <td>0.700</td>\n",
       "      <td>0.467</td>\n",
       "      <td>0.800</td>\n",
       "      <td>0.400</td>\n",
       "      <td>0.600</td>\n",
       "      <td>0.600</td>\n",
       "      <td>1</td>\n",
       "      <td>0</td>\n",
       "      <td>12.0</td>\n",
       "    </tr>\n",
       "    <tr>\n",
       "      <th>1</th>\n",
       "      <td>how can i increa the speed of my internet conn...</td>\n",
       "      <td>how can internet speed be increas by hack thro...</td>\n",
       "      <td>0</td>\n",
       "      <td>65</td>\n",
       "      <td>52</td>\n",
       "      <td>14</td>\n",
       "      <td>10</td>\n",
       "      <td>24</td>\n",
       "      <td>4</td>\n",
       "      <td>0.17</td>\n",
       "      <td>...</td>\n",
       "      <td>2</td>\n",
       "      <td>0.400</td>\n",
       "      <td>0.286</td>\n",
       "      <td>0.400</td>\n",
       "      <td>0.333</td>\n",
       "      <td>0.400</td>\n",
       "      <td>0.250</td>\n",
       "      <td>1</td>\n",
       "      <td>0</td>\n",
       "      <td>12.0</td>\n",
       "    </tr>\n",
       "    <tr>\n",
       "      <th>2</th>\n",
       "      <td>whi am i mental veri lone how can i solv it</td>\n",
       "      <td>find the remaind when 23 24 math is divid by 2...</td>\n",
       "      <td>0</td>\n",
       "      <td>43</td>\n",
       "      <td>50</td>\n",
       "      <td>11</td>\n",
       "      <td>12</td>\n",
       "      <td>20</td>\n",
       "      <td>0</td>\n",
       "      <td>0.00</td>\n",
       "      <td>...</td>\n",
       "      <td>0</td>\n",
       "      <td>0.000</td>\n",
       "      <td>0.000</td>\n",
       "      <td>0.000</td>\n",
       "      <td>0.000</td>\n",
       "      <td>0.000</td>\n",
       "      <td>0.000</td>\n",
       "      <td>0</td>\n",
       "      <td>0</td>\n",
       "      <td>10.0</td>\n",
       "    </tr>\n",
       "    <tr>\n",
       "      <th>3</th>\n",
       "      <td>which one dissolv in water quikli sugar salt m...</td>\n",
       "      <td>which fish would surviv in salt water</td>\n",
       "      <td>0</td>\n",
       "      <td>70</td>\n",
       "      <td>37</td>\n",
       "      <td>13</td>\n",
       "      <td>7</td>\n",
       "      <td>20</td>\n",
       "      <td>4</td>\n",
       "      <td>0.20</td>\n",
       "      <td>...</td>\n",
       "      <td>2</td>\n",
       "      <td>0.571</td>\n",
       "      <td>0.308</td>\n",
       "      <td>0.400</td>\n",
       "      <td>0.200</td>\n",
       "      <td>1.000</td>\n",
       "      <td>0.667</td>\n",
       "      <td>1</td>\n",
       "      <td>0</td>\n",
       "      <td>10.0</td>\n",
       "    </tr>\n",
       "    <tr>\n",
       "      <th>4</th>\n",
       "      <td>should i buy tiago</td>\n",
       "      <td>what keep childern activ and far from phone an...</td>\n",
       "      <td>0</td>\n",
       "      <td>18</td>\n",
       "      <td>58</td>\n",
       "      <td>4</td>\n",
       "      <td>11</td>\n",
       "      <td>14</td>\n",
       "      <td>0</td>\n",
       "      <td>0.00</td>\n",
       "      <td>...</td>\n",
       "      <td>0</td>\n",
       "      <td>0.000</td>\n",
       "      <td>0.000</td>\n",
       "      <td>0.000</td>\n",
       "      <td>0.000</td>\n",
       "      <td>0.000</td>\n",
       "      <td>0.000</td>\n",
       "      <td>0</td>\n",
       "      <td>0</td>\n",
       "      <td>7.0</td>\n",
       "    </tr>\n",
       "    <tr>\n",
       "      <th>...</th>\n",
       "      <td>...</td>\n",
       "      <td>...</td>\n",
       "      <td>...</td>\n",
       "      <td>...</td>\n",
       "      <td>...</td>\n",
       "      <td>...</td>\n",
       "      <td>...</td>\n",
       "      <td>...</td>\n",
       "      <td>...</td>\n",
       "      <td>...</td>\n",
       "      <td>...</td>\n",
       "      <td>...</td>\n",
       "      <td>...</td>\n",
       "      <td>...</td>\n",
       "      <td>...</td>\n",
       "      <td>...</td>\n",
       "      <td>...</td>\n",
       "      <td>...</td>\n",
       "      <td>...</td>\n",
       "      <td>...</td>\n",
       "      <td>...</td>\n",
       "    </tr>\n",
       "    <tr>\n",
       "      <th>344199</th>\n",
       "      <td>what are some outfit idea to wear to a frat parti</td>\n",
       "      <td>what are some outfit idea wear to a frat theme...</td>\n",
       "      <td>1</td>\n",
       "      <td>49</td>\n",
       "      <td>52</td>\n",
       "      <td>11</td>\n",
       "      <td>11</td>\n",
       "      <td>21</td>\n",
       "      <td>10</td>\n",
       "      <td>0.48</td>\n",
       "      <td>...</td>\n",
       "      <td>5</td>\n",
       "      <td>0.909</td>\n",
       "      <td>0.909</td>\n",
       "      <td>1.000</td>\n",
       "      <td>0.833</td>\n",
       "      <td>1.000</td>\n",
       "      <td>0.833</td>\n",
       "      <td>1</td>\n",
       "      <td>1</td>\n",
       "      <td>10.5</td>\n",
       "    </tr>\n",
       "    <tr>\n",
       "      <th>344200</th>\n",
       "      <td>whi is manaphi childish in pokémon ranger and ...</td>\n",
       "      <td>whi is manaphi annoy in pokemon ranger and the...</td>\n",
       "      <td>1</td>\n",
       "      <td>66</td>\n",
       "      <td>63</td>\n",
       "      <td>13</td>\n",
       "      <td>13</td>\n",
       "      <td>24</td>\n",
       "      <td>10</td>\n",
       "      <td>0.42</td>\n",
       "      <td>...</td>\n",
       "      <td>5</td>\n",
       "      <td>0.769</td>\n",
       "      <td>0.769</td>\n",
       "      <td>0.714</td>\n",
       "      <td>0.714</td>\n",
       "      <td>0.833</td>\n",
       "      <td>0.833</td>\n",
       "      <td>1</td>\n",
       "      <td>1</td>\n",
       "      <td>12.0</td>\n",
       "    </tr>\n",
       "    <tr>\n",
       "      <th>344201</th>\n",
       "      <td>how doe a long distanc relationship work</td>\n",
       "      <td>how are long distanc relationship maintain</td>\n",
       "      <td>1</td>\n",
       "      <td>40</td>\n",
       "      <td>42</td>\n",
       "      <td>7</td>\n",
       "      <td>6</td>\n",
       "      <td>13</td>\n",
       "      <td>4</td>\n",
       "      <td>0.31</td>\n",
       "      <td>...</td>\n",
       "      <td>1</td>\n",
       "      <td>0.667</td>\n",
       "      <td>0.571</td>\n",
       "      <td>0.750</td>\n",
       "      <td>0.600</td>\n",
       "      <td>0.500</td>\n",
       "      <td>0.500</td>\n",
       "      <td>1</td>\n",
       "      <td>0</td>\n",
       "      <td>6.5</td>\n",
       "    </tr>\n",
       "    <tr>\n",
       "      <th>344202</th>\n",
       "      <td>what doe jainism say about homosexu</td>\n",
       "      <td>what doe jainism say about gay and homosexu</td>\n",
       "      <td>1</td>\n",
       "      <td>35</td>\n",
       "      <td>43</td>\n",
       "      <td>6</td>\n",
       "      <td>8</td>\n",
       "      <td>14</td>\n",
       "      <td>6</td>\n",
       "      <td>0.43</td>\n",
       "      <td>...</td>\n",
       "      <td>2</td>\n",
       "      <td>1.000</td>\n",
       "      <td>0.750</td>\n",
       "      <td>1.000</td>\n",
       "      <td>0.800</td>\n",
       "      <td>1.000</td>\n",
       "      <td>0.667</td>\n",
       "      <td>1</td>\n",
       "      <td>1</td>\n",
       "      <td>7.0</td>\n",
       "    </tr>\n",
       "    <tr>\n",
       "      <th>344203</th>\n",
       "      <td>do you believ there is life after death</td>\n",
       "      <td>is it true that there is life after death</td>\n",
       "      <td>1</td>\n",
       "      <td>39</td>\n",
       "      <td>41</td>\n",
       "      <td>8</td>\n",
       "      <td>9</td>\n",
       "      <td>16</td>\n",
       "      <td>5</td>\n",
       "      <td>0.31</td>\n",
       "      <td>...</td>\n",
       "      <td>3</td>\n",
       "      <td>0.625</td>\n",
       "      <td>0.556</td>\n",
       "      <td>0.667</td>\n",
       "      <td>0.667</td>\n",
       "      <td>0.600</td>\n",
       "      <td>0.500</td>\n",
       "      <td>0</td>\n",
       "      <td>1</td>\n",
       "      <td>8.0</td>\n",
       "    </tr>\n",
       "  </tbody>\n",
       "</table>\n",
       "<p>344204 rows × 25 columns</p>\n",
       "</div>"
      ],
      "text/plain": [
       "                                                question1  \\\n",
       "0        what is the stori of kohinoor koh i noor diamond   \n",
       "1       how can i increa the speed of my internet conn...   \n",
       "2             whi am i mental veri lone how can i solv it   \n",
       "3       which one dissolv in water quikli sugar salt m...   \n",
       "4                                      should i buy tiago   \n",
       "...                                                   ...   \n",
       "344199  what are some outfit idea to wear to a frat parti   \n",
       "344200  whi is manaphi childish in pokémon ranger and ...   \n",
       "344201           how doe a long distanc relationship work   \n",
       "344202                what doe jainism say about homosexu   \n",
       "344203            do you believ there is life after death   \n",
       "\n",
       "                                                question2  is_duplicate  \\\n",
       "0       what would happen if the indian govern stole t...             0   \n",
       "1       how can internet speed be increas by hack thro...             0   \n",
       "2       find the remaind when 23 24 math is divid by 2...             0   \n",
       "3                   which fish would surviv in salt water             0   \n",
       "4       what keep childern activ and far from phone an...             0   \n",
       "...                                                   ...           ...   \n",
       "344199  what are some outfit idea wear to a frat theme...             1   \n",
       "344200  whi is manaphi annoy in pokemon ranger and the...             1   \n",
       "344201         how are long distanc relationship maintain             1   \n",
       "344202        what doe jainism say about gay and homosexu             1   \n",
       "344203          is it true that there is life after death             1   \n",
       "\n",
       "        q1_len  q2_len  q1_num_words  q2_num_words  word_total  word_common  \\\n",
       "0           48      81            10            15          24            7   \n",
       "1           65      52            14            10          24            4   \n",
       "2           43      50            11            12          20            0   \n",
       "3           70      37            13             7          20            4   \n",
       "4           18      58             4            11          14            0   \n",
       "...        ...     ...           ...           ...         ...          ...   \n",
       "344199      49      52            11            11          21           10   \n",
       "344200      66      63            13            13          24           10   \n",
       "344201      40      42             7             6          13            4   \n",
       "344202      35      43             6             8          14            6   \n",
       "344203      39      41             8             9          16            5   \n",
       "\n",
       "        word_share  ...  csc  cwc_min  cwc_max  ctc_min  ctc_max  csc_min  \\\n",
       "0             0.29  ...    3    0.700    0.467    0.800    0.400    0.600   \n",
       "1             0.17  ...    2    0.400    0.286    0.400    0.333    0.400   \n",
       "2             0.00  ...    0    0.000    0.000    0.000    0.000    0.000   \n",
       "3             0.20  ...    2    0.571    0.308    0.400    0.200    1.000   \n",
       "4             0.00  ...    0    0.000    0.000    0.000    0.000    0.000   \n",
       "...            ...  ...  ...      ...      ...      ...      ...      ...   \n",
       "344199        0.48  ...    5    0.909    0.909    1.000    0.833    1.000   \n",
       "344200        0.42  ...    5    0.769    0.769    0.714    0.714    0.833   \n",
       "344201        0.31  ...    1    0.667    0.571    0.750    0.600    0.500   \n",
       "344202        0.43  ...    2    1.000    0.750    1.000    0.800    1.000   \n",
       "344203        0.31  ...    3    0.625    0.556    0.667    0.667    0.600   \n",
       "\n",
       "        csc_max  first_w_eq  last_w_eq  avg_words  \n",
       "0         0.600           1          0       12.0  \n",
       "1         0.250           1          0       12.0  \n",
       "2         0.000           0          0       10.0  \n",
       "3         0.667           1          0       10.0  \n",
       "4         0.000           0          0        7.0  \n",
       "...         ...         ...        ...        ...  \n",
       "344199    0.833           1          1       10.5  \n",
       "344200    0.833           1          1       12.0  \n",
       "344201    0.500           1          0        6.5  \n",
       "344202    0.667           1          1        7.0  \n",
       "344203    0.500           0          1        8.0  \n",
       "\n",
       "[344204 rows x 25 columns]"
      ]
     },
     "execution_count": 3,
     "metadata": {},
     "output_type": "execute_result"
    }
   ],
   "source": [
    "df"
   ]
  },
  {
   "cell_type": "code",
   "execution_count": 4,
   "id": "46016a39",
   "metadata": {},
   "outputs": [],
   "source": [
    "class Models:\n",
    "    def __init__(self,df,convter, *models):\n",
    "        self.convter=convter\n",
    "        self.df=df\n",
    "        self.models=models\n",
    "        Question=list(self.df['question1'])+list(self.df['question2'])\n",
    "        self.convter.fit(Question)\n",
    "        \n",
    "        self.q1_trans= self.convter.fit_transform(self.df['question1']).toarray()\n",
    "        self.q2_trans= self.convter.fit_transform(self.df['question2']).toarray()\n",
    "        \n",
    "        self.q_trans=np.append(self.q1_trans,self.q2_trans,axis=1)\n",
    "        self.Columns=np.arange(self.q_trans.shape[1])\n",
    "        \n",
    "        self.que=pd.DataFrame(self.q_trans,columns=self.Columns)\n",
    "        self.que.columns=self.que.columns.astype(str)\n",
    "        \n",
    "        self.final=pd.concat([self.df.drop(['question1','question2'],axis=1),self.que],axis=1)\n",
    "        \n",
    "        self.final=self.final.astype('int8')\n",
    "\n",
    "        self.x_train,self.x_test,self.y_train,self.y_test=train_test_split(self.final.drop('is_duplicate',axis=1),self.final['is_duplicate'],test_size=0.2)\n",
    "        \n",
    "    def Result(self):\n",
    "        for i in self.models:\n",
    "            i.fit(self.x_train, self.y_train)\n",
    "            y_pred = i.predict(self.x_test)\n",
    "            print(i)\n",
    "            print('accuracy_score', accuracy_score(self.y_test, y_pred))\n",
    "            "
   ]
  },
  {
   "cell_type": "code",
   "execution_count": 6,
   "id": "4d5360e9",
   "metadata": {},
   "outputs": [],
   "source": [
    "df_smaple=df.sample(20000,ignore_index=True,random_state=0)"
   ]
  },
  {
   "cell_type": "code",
   "execution_count": 11,
   "id": "6d1e456c",
   "metadata": {},
   "outputs": [],
   "source": [
    "from sklearn.feature_extraction.text import TfidfVectorizer,CountVectorizer\n",
    "from sklearn.model_selection import train_test_split\n",
    "from sklearn.linear_model import LogisticRegression\n",
    "from sklearn.ensemble import RandomForestClassifier,AdaBoostClassifier,GradientBoostingClassifier\n",
    "from sklearn.svm import SVC\n",
    "from sklearn.naive_bayes import GaussianNB,MultinomialNB,BernoulliNB\n",
    "from sklearn.metrics import accuracy_score\n",
    "from xgboost import XGBClassifier"
   ]
  },
  {
   "cell_type": "code",
   "execution_count": 8,
   "id": "50bcc687",
   "metadata": {},
   "outputs": [],
   "source": [
    "lr=LogisticRegression(n_jobs=-1)\n",
    "svc=SVC()\n",
    "abc=AdaBoostClassifier()\n",
    "gbc=GradientBoostingClassifier()\n",
    "gnb=GaussianNB()\n",
    "mnb=MultinomialNB()\n",
    "bnb=BernoulliNB()\n",
    "rf=RandomForestClassifier(n_jobs=-1)\n",
    "xgb=XGBClassifier(n_jobs=-1)"
   ]
  },
  {
   "cell_type": "code",
   "execution_count": 9,
   "id": "21815b13",
   "metadata": {},
   "outputs": [],
   "source": [
    "cv_1=CountVectorizer(max_features=2000)\n",
    "tf_1=TfidfVectorizer(max_features=2000)"
   ]
  },
  {
   "cell_type": "code",
   "execution_count": 15,
   "id": "84d46731",
   "metadata": {
    "scrolled": true
   },
   "outputs": [],
   "source": [
    "clss_cv_1=Models(df_smaple,cv_1,rf,xgb,lr)"
   ]
  },
  {
   "cell_type": "code",
   "execution_count": 16,
   "id": "ecbe91be",
   "metadata": {},
   "outputs": [
    {
     "name": "stdout",
     "output_type": "stream",
     "text": [
      "RandomForestClassifier(n_jobs=-1)\n",
      "accuracy_score 0.81475\n",
      "XGBClassifier(base_score=None, booster=None, callbacks=None,\n",
      "              colsample_bylevel=None, colsample_bynode=None,\n",
      "              colsample_bytree=None, device=None, early_stopping_rounds=None,\n",
      "              enable_categorical=False, eval_metric=None, feature_types=None,\n",
      "              gamma=None, grow_policy=None, importance_type=None,\n",
      "              interaction_constraints=None, learning_rate=None, max_bin=None,\n",
      "              max_cat_threshold=None, max_cat_to_onehot=None,\n",
      "              max_delta_step=None, max_depth=None, max_leaves=None,\n",
      "              min_child_weight=None, missing=nan, monotone_constraints=None,\n",
      "              multi_strategy=None, n_estimators=None, n_jobs=-1,\n",
      "              num_parallel_tree=None, random_state=None, ...)\n",
      "accuracy_score 0.834\n",
      "LogisticRegression(n_jobs=-1)\n",
      "accuracy_score 0.812\n"
     ]
    }
   ],
   "source": [
    "clss_cv_1.Result()"
   ]
  },
  {
   "cell_type": "code",
   "execution_count": 17,
   "id": "7b4d7074",
   "metadata": {},
   "outputs": [],
   "source": [
    "clss_tf_1=Models(df_smaple,tf_1,rf,xgb,lr)"
   ]
  },
  {
   "cell_type": "code",
   "execution_count": 18,
   "id": "6962bf95",
   "metadata": {},
   "outputs": [
    {
     "name": "stdout",
     "output_type": "stream",
     "text": [
      "RandomForestClassifier(n_jobs=-1)\n",
      "accuracy_score 0.7915\n",
      "XGBClassifier(base_score=None, booster=None, callbacks=None,\n",
      "              colsample_bylevel=None, colsample_bynode=None,\n",
      "              colsample_bytree=None, device=None, early_stopping_rounds=None,\n",
      "              enable_categorical=False, eval_metric=None, feature_types=None,\n",
      "              gamma=None, grow_policy=None, importance_type=None,\n",
      "              interaction_constraints=None, learning_rate=None, max_bin=None,\n",
      "              max_cat_threshold=None, max_cat_to_onehot=None,\n",
      "              max_delta_step=None, max_depth=None, max_leaves=None,\n",
      "              min_child_weight=None, missing=nan, monotone_constraints=None,\n",
      "              multi_strategy=None, n_estimators=None, n_jobs=-1,\n",
      "              num_parallel_tree=None, random_state=None, ...)\n",
      "accuracy_score 0.80325\n",
      "LogisticRegression(n_jobs=-1)\n",
      "accuracy_score 0.79275\n"
     ]
    }
   ],
   "source": [
    "clss_tf_1.Result()"
   ]
  },
  {
   "cell_type": "code",
   "execution_count": 19,
   "id": "55212aab",
   "metadata": {},
   "outputs": [],
   "source": [
    "cv_2=CountVectorizer(max_features=2000,ngram_range=(1,2))\n",
    "tf_2=TfidfVectorizer(max_features=2000,ngram_range=(1,2))"
   ]
  },
  {
   "cell_type": "code",
   "execution_count": 21,
   "id": "201b2a9e",
   "metadata": {},
   "outputs": [
    {
     "name": "stdout",
     "output_type": "stream",
     "text": [
      "RandomForestClassifier(n_jobs=-1)\n",
      "accuracy_score 0.82375\n",
      "XGBClassifier(base_score=None, booster=None, callbacks=None,\n",
      "              colsample_bylevel=None, colsample_bynode=None,\n",
      "              colsample_bytree=None, device=None, early_stopping_rounds=None,\n",
      "              enable_categorical=False, eval_metric=None, feature_types=None,\n",
      "              gamma=None, grow_policy=None, importance_type=None,\n",
      "              interaction_constraints=None, learning_rate=None, max_bin=None,\n",
      "              max_cat_threshold=None, max_cat_to_onehot=None,\n",
      "              max_delta_step=None, max_depth=None, max_leaves=None,\n",
      "              min_child_weight=None, missing=nan, monotone_constraints=None,\n",
      "              multi_strategy=None, n_estimators=None, n_jobs=-1,\n",
      "              num_parallel_tree=None, random_state=None, ...)\n",
      "accuracy_score 0.83\n",
      "LogisticRegression(n_jobs=-1)\n",
      "accuracy_score 0.8125\n"
     ]
    }
   ],
   "source": [
    "clss_cv_2=Models(df_smaple,cv_2,rf,xgb,lr)\n",
    "clss_cv_2.Result()"
   ]
  },
  {
   "cell_type": "code",
   "execution_count": 22,
   "id": "1658a873",
   "metadata": {
    "scrolled": true
   },
   "outputs": [
    {
     "name": "stdout",
     "output_type": "stream",
     "text": [
      "RandomForestClassifier(n_jobs=-1)\n",
      "accuracy_score 0.77675\n",
      "XGBClassifier(base_score=None, booster=None, callbacks=None,\n",
      "              colsample_bylevel=None, colsample_bynode=None,\n",
      "              colsample_bytree=None, device=None, early_stopping_rounds=None,\n",
      "              enable_categorical=False, eval_metric=None, feature_types=None,\n",
      "              gamma=None, grow_policy=None, importance_type=None,\n",
      "              interaction_constraints=None, learning_rate=None, max_bin=None,\n",
      "              max_cat_threshold=None, max_cat_to_onehot=None,\n",
      "              max_delta_step=None, max_depth=None, max_leaves=None,\n",
      "              min_child_weight=None, missing=nan, monotone_constraints=None,\n",
      "              multi_strategy=None, n_estimators=None, n_jobs=-1,\n",
      "              num_parallel_tree=None, random_state=None, ...)\n",
      "accuracy_score 0.79525\n",
      "LogisticRegression(n_jobs=-1)\n",
      "accuracy_score 0.77\n"
     ]
    }
   ],
   "source": [
    "clss_tf_2=Models(df_smaple,tf_2,rf,xgb,lr)\n",
    "clss_tf_2.Result()"
   ]
  },
  {
   "cell_type": "code",
   "execution_count": 23,
   "id": "3617fed1",
   "metadata": {},
   "outputs": [],
   "source": [
    "cv_23=CountVectorizer(max_features=2000,ngram_range=(2,3))\n"
   ]
  },
  {
   "cell_type": "code",
   "execution_count": 24,
   "id": "2611a128",
   "metadata": {},
   "outputs": [
    {
     "name": "stdout",
     "output_type": "stream",
     "text": [
      "RandomForestClassifier(n_jobs=-1)\n",
      "accuracy_score 0.81825\n",
      "XGBClassifier(base_score=None, booster=None, callbacks=None,\n",
      "              colsample_bylevel=None, colsample_bynode=None,\n",
      "              colsample_bytree=None, device=None, early_stopping_rounds=None,\n",
      "              enable_categorical=False, eval_metric=None, feature_types=None,\n",
      "              gamma=None, grow_policy=None, importance_type=None,\n",
      "              interaction_constraints=None, learning_rate=None, max_bin=None,\n",
      "              max_cat_threshold=None, max_cat_to_onehot=None,\n",
      "              max_delta_step=None, max_depth=None, max_leaves=None,\n",
      "              min_child_weight=None, missing=nan, monotone_constraints=None,\n",
      "              multi_strategy=None, n_estimators=None, n_jobs=-1,\n",
      "              num_parallel_tree=None, random_state=None, ...)\n",
      "accuracy_score 0.823\n",
      "LogisticRegression(n_jobs=-1)\n",
      "accuracy_score 0.7985\n"
     ]
    }
   ],
   "source": [
    "clss_cv_23=Models(df_smaple,cv_23,rf,xgb,lr)\n",
    "clss_cv_23.Result()"
   ]
  },
  {
   "cell_type": "code",
   "execution_count": 25,
   "id": "934b7e74",
   "metadata": {},
   "outputs": [],
   "source": [
    "data=df.sample(50000,ignore_index=True,random_state=0)"
   ]
  },
  {
   "cell_type": "code",
   "execution_count": 35,
   "id": "84851435",
   "metadata": {},
   "outputs": [],
   "source": [
    "cv_123=CountVectorizer(max_features=3000,ngram_range=(1,3))"
   ]
  },
  {
   "cell_type": "code",
   "execution_count": 36,
   "id": "2579b574",
   "metadata": {},
   "outputs": [],
   "source": [
    "m1 = Models(data, cv_123,rf, xgb)\n"
   ]
  },
  {
   "cell_type": "code",
   "execution_count": 37,
   "id": "5998e7a5",
   "metadata": {
    "scrolled": true
   },
   "outputs": [
    {
     "name": "stdout",
     "output_type": "stream",
     "text": [
      "RandomForestClassifier(n_jobs=-1)\n",
      "accuracy_score 0.8358\n",
      "XGBClassifier(base_score=None, booster=None, callbacks=None,\n",
      "              colsample_bylevel=None, colsample_bynode=None,\n",
      "              colsample_bytree=None, device=None, early_stopping_rounds=None,\n",
      "              enable_categorical=False, eval_metric=None, feature_types=None,\n",
      "              gamma=None, grow_policy=None, importance_type=None,\n",
      "              interaction_constraints=None, learning_rate=None, max_bin=None,\n",
      "              max_cat_threshold=None, max_cat_to_onehot=None,\n",
      "              max_delta_step=None, max_depth=None, max_leaves=None,\n",
      "              min_child_weight=None, missing=nan, monotone_constraints=None,\n",
      "              multi_strategy=None, n_estimators=None, n_jobs=-1,\n",
      "              num_parallel_tree=None, random_state=None, ...)\n",
      "accuracy_score 0.8441\n"
     ]
    }
   ],
   "source": [
    "m1.Result()"
   ]
  },
  {
   "cell_type": "code",
   "execution_count": 40,
   "id": "83391776",
   "metadata": {},
   "outputs": [],
   "source": [
    "cv13=CountVectorizer(max_features=4000,ngram_range=(1,3))"
   ]
  },
  {
   "cell_type": "code",
   "execution_count": 41,
   "id": "9ebfaa1b",
   "metadata": {},
   "outputs": [],
   "source": [
    "m2=Models(data,cv13,rf,xgb)"
   ]
  },
  {
   "cell_type": "code",
   "execution_count": 42,
   "id": "f1f1af0b",
   "metadata": {},
   "outputs": [
    {
     "name": "stdout",
     "output_type": "stream",
     "text": [
      "RandomForestClassifier(n_jobs=-1)\n",
      "accuracy_score 0.8273\n",
      "XGBClassifier(base_score=None, booster=None, callbacks=None,\n",
      "              colsample_bylevel=None, colsample_bynode=None,\n",
      "              colsample_bytree=None, device=None, early_stopping_rounds=None,\n",
      "              enable_categorical=False, eval_metric=None, feature_types=None,\n",
      "              gamma=None, grow_policy=None, importance_type=None,\n",
      "              interaction_constraints=None, learning_rate=None, max_bin=None,\n",
      "              max_cat_threshold=None, max_cat_to_onehot=None,\n",
      "              max_delta_step=None, max_depth=None, max_leaves=None,\n",
      "              min_child_weight=None, missing=nan, monotone_constraints=None,\n",
      "              multi_strategy=None, n_estimators=None, n_jobs=-1,\n",
      "              num_parallel_tree=None, random_state=None, ...)\n",
      "accuracy_score 0.8367\n"
     ]
    }
   ],
   "source": [
    "m2.Result()"
   ]
  },
  {
   "cell_type": "code",
   "execution_count": 43,
   "id": "d70bd6c7",
   "metadata": {},
   "outputs": [],
   "source": [
    "data1=df.sample(100000,ignore_index=True,random_state=0)"
   ]
  },
  {
   "cell_type": "code",
   "execution_count": 44,
   "id": "0c22c219",
   "metadata": {},
   "outputs": [],
   "source": [
    "m=Models(data1,cv13,rf,xgb)"
   ]
  },
  {
   "cell_type": "code",
   "execution_count": 45,
   "id": "2d0eb31e",
   "metadata": {},
   "outputs": [
    {
     "name": "stdout",
     "output_type": "stream",
     "text": [
      "RandomForestClassifier(n_jobs=-1)\n",
      "accuracy_score 0.84605\n",
      "XGBClassifier(base_score=None, booster=None, callbacks=None,\n",
      "              colsample_bylevel=None, colsample_bynode=None,\n",
      "              colsample_bytree=None, device=None, early_stopping_rounds=None,\n",
      "              enable_categorical=False, eval_metric=None, feature_types=None,\n",
      "              gamma=None, grow_policy=None, importance_type=None,\n",
      "              interaction_constraints=None, learning_rate=None, max_bin=None,\n",
      "              max_cat_threshold=None, max_cat_to_onehot=None,\n",
      "              max_delta_step=None, max_depth=None, max_leaves=None,\n",
      "              min_child_weight=None, missing=nan, monotone_constraints=None,\n",
      "              multi_strategy=None, n_estimators=None, n_jobs=-1,\n",
      "              num_parallel_tree=None, random_state=None, ...)\n",
      "accuracy_score 0.84685\n"
     ]
    }
   ],
   "source": [
    "m.Result()"
   ]
  },
  {
   "cell_type": "code",
   "execution_count": null,
   "id": "5e08eecc",
   "metadata": {},
   "outputs": [],
   "source": []
  },
  {
   "cell_type": "code",
   "execution_count": null,
   "id": "33f56516",
   "metadata": {},
   "outputs": [],
   "source": []
  }
 ],
 "metadata": {
  "kernelspec": {
   "display_name": "Python 3 (ipykernel)",
   "language": "python",
   "name": "python3"
  },
  "language_info": {
   "codemirror_mode": {
    "name": "ipython",
    "version": 3
   },
   "file_extension": ".py",
   "mimetype": "text/x-python",
   "name": "python",
   "nbconvert_exporter": "python",
   "pygments_lexer": "ipython3",
   "version": "3.11.5"
  }
 },
 "nbformat": 4,
 "nbformat_minor": 5
}
